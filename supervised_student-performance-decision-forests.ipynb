{
 "cells": [
  {
   "cell_type": "markdown",
   "id": "5ec5e76a",
   "metadata": {
    "id": "iCTA6kl3n2O1",
    "papermill": {
     "duration": 0.017782,
     "end_time": "2023-05-11T12:01:34.352412",
     "exception": false,
     "start_time": "2023-05-11T12:01:34.334630",
     "status": "completed"
    },
    "tags": []
   },
   "source": [
    "# Student Performance from Game Play Using TensorFlow Decision Forests\n",
    "\n",
    "---\n",
    "## Introduction\n",
    "\n"
   ]
  },
  {
   "cell_type": "markdown",
   "id": "05d13013",
   "metadata": {},
   "source": [
    "The aim of this project is to develop a predictive model for real-time assessment of student performance during game-based learning. The model will be built on one of the most extensive open datasets of game logs available.\n",
    "\n",
    "This undertaking will contribute to the evolution of knowledge-tracing methodologies for game-based learning. The outcome will aid educational game developers in crafting more effective and immersive learning experiences for students.\n",
    "\n",
    "\n",
    "## Context\n",
    "\n",
    "Game-based learning is designed to make education an engaging and interactive process. It places educational content within a game framework, turning learning into a dynamic and enjoyable experience. Despite its increasing usage in various educational contexts, open datasets that can be applied to refine game-based learning using data science and learning analytic principles are still limited.\n",
    "\n",
    "Currently, many game-based learning platforms don't fully harness the power of knowledge tracing to assist individual learners. While knowledge tracing methodologies have been researched and implemented in online learning environments and intelligent tutoring systems, they are not as widely used in educational games.\n",
    "\n",
    "Our project collaborator, Field Day Lab, is a public research lab at the Wisconsin Center for Educational Research. They develop games for a wide range of subjects and age groups, bringing contemporary research to the public. They utilize game data to gain insights into learning processes. With their commitment to accessibility, all games developed by Field Day Lab are freely available to everyone. They also work in partnership with nonprofit organizations such as The Learning Agency Lab, which focuses on creating science of learning-based tools and programs for social welfare.\n",
    "\n",
    "Successful completion of this project will empower game developers to enhance educational games. It will also provide educators using these games with dashboards and analytical tools, potentially leading to broader support for game-based learning platforms.\n",
    "\n",
    "Our goal is to train models for each question to predict the label \"correct\" for a input user session using a supervised machine learning algorithm.\n"
   ]
  },
  {
   "cell_type": "code",
   "execution_count": 3,
   "id": "db1f36c4",
   "metadata": {},
   "outputs": [],
   "source": [
    "# This function will save memory to prevent errors \n",
    "def reduce_mem_usage(df):\n",
    "    \"\"\" iterate through all the columns of a dataframe and modify the data type\n",
    "        to reduce memory usage.        \n",
    "    \"\"\"\n",
    "    #start_mem = df.memory_usage().sum() / 1024**2\n",
    "    #print('Memory usage of dataframe is {:.2f} MB'.format(start_mem))\n",
    "\n",
    "    for col in df.columns:\n",
    "        col_type = df[col].dtype\n",
    "\n",
    "        if col_type != object:\n",
    "            c_min = df[col].min()\n",
    "            c_max = df[col].max()\n",
    "            if str(col_type)[:3] == 'int':\n",
    "                if c_min > np.iinfo(np.int8).min and c_max < np.iinfo(np.int8).max:\n",
    "                    df[col] = df[col].astype(np.int8)\n",
    "                elif c_min > np.iinfo(np.int16).min and c_max < np.iinfo(np.int16).max:\n",
    "                    df[col] = df[col].astype(np.int16)\n",
    "                elif c_min > np.iinfo(np.int32).min and c_max < np.iinfo(np.int32).max:\n",
    "                    df[col] = df[col].astype(np.int32)\n",
    "                elif c_min > np.iinfo(np.int64).min and c_max < np.iinfo(np.int64).max:\n",
    "                    df[col] = df[col].astype(np.int64)  \n",
    "            else:\n",
    "                if c_min > np.finfo(np.float16).min and c_max < np.finfo(np.float16).max:\n",
    "                    df[col] = df[col].astype(np.float16)\n",
    "                elif c_min > np.finfo(np.float32).min and c_max < np.finfo(np.float32).max:\n",
    "                    df[col] = df[col].astype(np.float32)\n",
    "                else:\n",
    "                    df[col] = df[col].astype(np.float64)\n",
    "\n",
    "    #end_mem = df.memory_usage().sum() / 1024**2\n",
    "    #print('Memory usage after optimization is: {:.2f} MB'.format(end_mem))\n",
    "    #print('Decreased by {:.1f}%'.format(100 * (start_mem - end_mem) / start_mem))\n",
    "\n",
    "    return df"
   ]
  },
  {
   "cell_type": "markdown",
   "id": "3f975e5d",
   "metadata": {
    "id": "zAXHC6-Tn2O5",
    "papermill": {
     "duration": 0.01601,
     "end_time": "2023-05-11T12:01:34.419007",
     "exception": false,
     "start_time": "2023-05-11T12:01:34.402997",
     "status": "completed"
    },
    "tags": []
   },
   "source": [
    "# Import the Required Libraries"
   ]
  },
  {
   "cell_type": "code",
   "execution_count": 4,
   "id": "fbfc3f8a",
   "metadata": {
    "execution": {
     "iopub.execute_input": "2023-05-11T12:01:34.455491Z",
     "iopub.status.busy": "2023-05-11T12:01:34.454698Z",
     "iopub.status.idle": "2023-05-11T12:01:46.334944Z",
     "shell.execute_reply": "2023-05-11T12:01:46.333382Z"
    },
    "id": "IanlX-Eqn2O5",
    "papermill": {
     "duration": 11.901765,
     "end_time": "2023-05-11T12:01:46.338491",
     "exception": false,
     "start_time": "2023-05-11T12:01:34.436726",
     "status": "completed"
    },
    "tags": []
   },
   "outputs": [
    {
     "name": "stderr",
     "output_type": "stream",
     "text": [
      "2023-06-22 20:37:07.385189: I tensorflow/tsl/cuda/cudart_stub.cc:28] Could not find cuda drivers on your machine, GPU will not be used.\n",
      "2023-06-22 20:37:07.519867: I tensorflow/tsl/cuda/cudart_stub.cc:28] Could not find cuda drivers on your machine, GPU will not be used.\n",
      "2023-06-22 20:37:07.520510: I tensorflow/core/platform/cpu_feature_guard.cc:182] This TensorFlow binary is optimized to use available CPU instructions in performance-critical operations.\n",
      "To enable the following instructions: AVX2 FMA, in other operations, rebuild TensorFlow with the appropriate compiler flags.\n",
      "2023-06-22 20:37:08.415650: W tensorflow/compiler/tf2tensorrt/utils/py_utils.cc:38] TF-TRT Warning: Could not find TensorRT\n",
      "/home/jeffwa/anaconda3/envs/DL_new/lib/python3.10/site-packages/tensorflow_addons/utils/tfa_eol_msg.py:23: UserWarning: \n",
      "\n",
      "TensorFlow Addons (TFA) has ended development and introduction of new features.\n",
      "TFA has entered a minimal maintenance and release mode until a planned end of life in May 2024.\n",
      "Please modify downstream libraries to take dependencies from other repositories in our TensorFlow community (e.g. Keras, Keras-CV, and Keras-NLP). \n",
      "\n",
      "For more information see: https://github.com/tensorflow/addons/issues/2807 \n",
      "\n",
      "  warnings.warn(\n"
     ]
    }
   ],
   "source": [
    "import tensorflow as tf\n",
    "import tensorflow_addons as tfa\n",
    "import tensorflow_decision_forests as tfdf\n",
    "\n",
    "import pandas as pd\n",
    "import numpy as np\n",
    "import matplotlib.pyplot as plt"
   ]
  },
  {
   "cell_type": "code",
   "execution_count": 5,
   "id": "5b1e76ae",
   "metadata": {
    "execution": {
     "iopub.execute_input": "2023-05-11T12:01:46.374520Z",
     "iopub.status.busy": "2023-05-11T12:01:46.373433Z",
     "iopub.status.idle": "2023-05-11T12:01:46.380050Z",
     "shell.execute_reply": "2023-05-11T12:01:46.379164Z"
    },
    "id": "gLpK2yAen2O7",
    "papermill": {
     "duration": 0.027303,
     "end_time": "2023-05-11T12:01:46.382645",
     "exception": false,
     "start_time": "2023-05-11T12:01:46.355342",
     "status": "completed"
    },
    "tags": []
   },
   "outputs": [
    {
     "name": "stdout",
     "output_type": "stream",
     "text": [
      "TensorFlow Decision Forests v1.3.0\n",
      "TensorFlow Addons v0.20.0\n",
      "TensorFlow v2.12.0\n"
     ]
    }
   ],
   "source": [
    "print(\"TensorFlow Decision Forests v\" + tfdf.__version__)\n",
    "print(\"TensorFlow Addons v\" + tfa.__version__)\n",
    "print(\"TensorFlow v\" + tf.__version__)"
   ]
  },
  {
   "cell_type": "markdown",
   "id": "f447e681",
   "metadata": {
    "id": "22DpLVFLn2O7",
    "papermill": {
     "duration": 0.016145,
     "end_time": "2023-05-11T12:01:46.415498",
     "exception": false,
     "start_time": "2023-05-11T12:01:46.399353",
     "status": "completed"
    },
    "tags": []
   },
   "source": [
    "# Load the Dataset\n",
    "\n",
    "Given the considerable size of the dataset, encountering memory errors when attempting to load the dataset from the CSV file is a plausible scenario. As a response, the goal here is to optimize the memory utilized by Pandas when loading and managing the dataset.\n",
    "\n",
    "Typically, Pandas auto-detects the datatypes of different columns upon loading a dataset. This process involves assigning int64 for numerical columns, float64 for floating-point columns, object dtype for string columns, and so on, irrespective of the maximum value held in these columns.\n",
    "\n",
    "There exists an opportunity to minimize the memory footprint of these columns by downcasting numerical columns to smaller types (like int8, int32, float32, etc.), as long as the highest values in these columns don't require larger storage types (for instance, int64, float64, etc.).\n",
    "\n",
    "In the same vein, Pandas automatically classifies string columns as object datatype. If these string columns store categorical data, their memory consumption can be reduced by designating their datatype as 'category'.\n",
    "\n",
    "There are multiple columns in the current dataset that are candidates for downcasting to smaller types.\n",
    "\n",
    "To aid this process, Pandas will be provided with a dictionary of datatypes for different columns during the loading of the dataset."
   ]
  },
  {
   "cell_type": "code",
   "execution_count": 6,
   "id": "a11d941f",
   "metadata": {
    "execution": {
     "iopub.execute_input": "2023-05-11T12:01:46.450576Z",
     "iopub.status.busy": "2023-05-11T12:01:46.449765Z",
     "iopub.status.idle": "2023-05-11T12:03:55.036787Z",
     "shell.execute_reply": "2023-05-11T12:03:55.028453Z"
    },
    "id": "_XItl24kn2O7",
    "papermill": {
     "duration": 128.618695,
     "end_time": "2023-05-11T12:03:55.050604",
     "exception": false,
     "start_time": "2023-05-11T12:01:46.431909",
     "status": "completed"
    },
    "tags": []
   },
   "outputs": [
    {
     "name": "stdout",
     "output_type": "stream",
     "text": [
      "Full train dataset shape is (26296946, 20)\n"
     ]
    }
   ],
   "source": [
    "dtypes={\n",
    "    'elapsed_time':np.int32,\n",
    "    'event_name':'category',\n",
    "    'name':'category',\n",
    "    'level':np.uint8,\n",
    "    'room_coor_x':np.float32,\n",
    "    'room_coor_y':np.float32,\n",
    "    'screen_coor_x':np.float32,\n",
    "    'screen_coor_y':np.float32,\n",
    "    'hover_duration':np.float32,\n",
    "    'text':'category',\n",
    "    'fqid':'category',\n",
    "    'room_fqid':'category',\n",
    "    'text_fqid':'category',\n",
    "    'fullscreen':'category',\n",
    "    'hq':'category',\n",
    "    'music':'category',\n",
    "    'level_group':'category'}\n",
    "\n",
    "dataset_df = pd.read_csv('train.csv', dtype=dtypes)\n",
    "print(\"Full train dataset shape is {}\".format(dataset_df.shape))"
   ]
  },
  {
   "cell_type": "code",
   "execution_count": 4,
   "id": "0cd4b873",
   "metadata": {
    "execution": {
     "iopub.execute_input": "2023-05-11T12:03:55.119172Z",
     "iopub.status.busy": "2023-05-11T12:03:55.118336Z",
     "iopub.status.idle": "2023-05-11T12:03:55.163515Z",
     "shell.execute_reply": "2023-05-11T12:03:55.162301Z"
    },
    "id": "-RTRVRiWn2O8",
    "papermill": {
     "duration": 0.066122,
     "end_time": "2023-05-11T12:03:55.166255",
     "exception": false,
     "start_time": "2023-05-11T12:03:55.100133",
     "status": "completed"
    },
    "tags": []
   },
   "outputs": [
    {
     "data": {
      "text/html": [
       "<div>\n",
       "<style scoped>\n",
       "    .dataframe tbody tr th:only-of-type {\n",
       "        vertical-align: middle;\n",
       "    }\n",
       "\n",
       "    .dataframe tbody tr th {\n",
       "        vertical-align: top;\n",
       "    }\n",
       "\n",
       "    .dataframe thead th {\n",
       "        text-align: right;\n",
       "    }\n",
       "</style>\n",
       "<table border=\"1\" class=\"dataframe\">\n",
       "  <thead>\n",
       "    <tr style=\"text-align: right;\">\n",
       "      <th></th>\n",
       "      <th>session_id</th>\n",
       "      <th>index</th>\n",
       "      <th>elapsed_time</th>\n",
       "      <th>event_name</th>\n",
       "      <th>name</th>\n",
       "      <th>level</th>\n",
       "      <th>page</th>\n",
       "      <th>room_coor_x</th>\n",
       "      <th>room_coor_y</th>\n",
       "      <th>screen_coor_x</th>\n",
       "      <th>screen_coor_y</th>\n",
       "      <th>hover_duration</th>\n",
       "      <th>text</th>\n",
       "      <th>fqid</th>\n",
       "      <th>room_fqid</th>\n",
       "      <th>text_fqid</th>\n",
       "      <th>fullscreen</th>\n",
       "      <th>hq</th>\n",
       "      <th>music</th>\n",
       "      <th>level_group</th>\n",
       "    </tr>\n",
       "  </thead>\n",
       "  <tbody>\n",
       "    <tr>\n",
       "      <th>0</th>\n",
       "      <td>20090312431273200</td>\n",
       "      <td>0</td>\n",
       "      <td>0</td>\n",
       "      <td>cutscene_click</td>\n",
       "      <td>basic</td>\n",
       "      <td>0</td>\n",
       "      <td>NaN</td>\n",
       "      <td>-413.991394</td>\n",
       "      <td>-159.314682</td>\n",
       "      <td>380.0</td>\n",
       "      <td>494.0</td>\n",
       "      <td>NaN</td>\n",
       "      <td>undefined</td>\n",
       "      <td>intro</td>\n",
       "      <td>tunic.historicalsociety.closet</td>\n",
       "      <td>tunic.historicalsociety.closet.intro</td>\n",
       "      <td>0</td>\n",
       "      <td>0</td>\n",
       "      <td>1</td>\n",
       "      <td>0-4</td>\n",
       "    </tr>\n",
       "    <tr>\n",
       "      <th>1</th>\n",
       "      <td>20090312431273200</td>\n",
       "      <td>1</td>\n",
       "      <td>1323</td>\n",
       "      <td>person_click</td>\n",
       "      <td>basic</td>\n",
       "      <td>0</td>\n",
       "      <td>NaN</td>\n",
       "      <td>-413.991394</td>\n",
       "      <td>-159.314682</td>\n",
       "      <td>380.0</td>\n",
       "      <td>494.0</td>\n",
       "      <td>NaN</td>\n",
       "      <td>Whatcha doing over there, Jo?</td>\n",
       "      <td>gramps</td>\n",
       "      <td>tunic.historicalsociety.closet</td>\n",
       "      <td>tunic.historicalsociety.closet.gramps.intro_0_...</td>\n",
       "      <td>0</td>\n",
       "      <td>0</td>\n",
       "      <td>1</td>\n",
       "      <td>0-4</td>\n",
       "    </tr>\n",
       "    <tr>\n",
       "      <th>2</th>\n",
       "      <td>20090312431273200</td>\n",
       "      <td>2</td>\n",
       "      <td>831</td>\n",
       "      <td>person_click</td>\n",
       "      <td>basic</td>\n",
       "      <td>0</td>\n",
       "      <td>NaN</td>\n",
       "      <td>-413.991394</td>\n",
       "      <td>-159.314682</td>\n",
       "      <td>380.0</td>\n",
       "      <td>494.0</td>\n",
       "      <td>NaN</td>\n",
       "      <td>Just talking to Teddy.</td>\n",
       "      <td>gramps</td>\n",
       "      <td>tunic.historicalsociety.closet</td>\n",
       "      <td>tunic.historicalsociety.closet.gramps.intro_0_...</td>\n",
       "      <td>0</td>\n",
       "      <td>0</td>\n",
       "      <td>1</td>\n",
       "      <td>0-4</td>\n",
       "    </tr>\n",
       "    <tr>\n",
       "      <th>3</th>\n",
       "      <td>20090312431273200</td>\n",
       "      <td>3</td>\n",
       "      <td>1147</td>\n",
       "      <td>person_click</td>\n",
       "      <td>basic</td>\n",
       "      <td>0</td>\n",
       "      <td>NaN</td>\n",
       "      <td>-413.991394</td>\n",
       "      <td>-159.314682</td>\n",
       "      <td>380.0</td>\n",
       "      <td>494.0</td>\n",
       "      <td>NaN</td>\n",
       "      <td>I gotta run to my meeting!</td>\n",
       "      <td>gramps</td>\n",
       "      <td>tunic.historicalsociety.closet</td>\n",
       "      <td>tunic.historicalsociety.closet.gramps.intro_0_...</td>\n",
       "      <td>0</td>\n",
       "      <td>0</td>\n",
       "      <td>1</td>\n",
       "      <td>0-4</td>\n",
       "    </tr>\n",
       "    <tr>\n",
       "      <th>4</th>\n",
       "      <td>20090312431273200</td>\n",
       "      <td>4</td>\n",
       "      <td>1863</td>\n",
       "      <td>person_click</td>\n",
       "      <td>basic</td>\n",
       "      <td>0</td>\n",
       "      <td>NaN</td>\n",
       "      <td>-412.991394</td>\n",
       "      <td>-159.314682</td>\n",
       "      <td>381.0</td>\n",
       "      <td>494.0</td>\n",
       "      <td>NaN</td>\n",
       "      <td>Can I come, Gramps?</td>\n",
       "      <td>gramps</td>\n",
       "      <td>tunic.historicalsociety.closet</td>\n",
       "      <td>tunic.historicalsociety.closet.gramps.intro_0_...</td>\n",
       "      <td>0</td>\n",
       "      <td>0</td>\n",
       "      <td>1</td>\n",
       "      <td>0-4</td>\n",
       "    </tr>\n",
       "  </tbody>\n",
       "</table>\n",
       "</div>"
      ],
      "text/plain": [
       "          session_id  index  elapsed_time      event_name   name  level  page  \\\n",
       "0  20090312431273200      0             0  cutscene_click  basic      0   NaN   \n",
       "1  20090312431273200      1          1323    person_click  basic      0   NaN   \n",
       "2  20090312431273200      2           831    person_click  basic      0   NaN   \n",
       "3  20090312431273200      3          1147    person_click  basic      0   NaN   \n",
       "4  20090312431273200      4          1863    person_click  basic      0   NaN   \n",
       "\n",
       "   room_coor_x  room_coor_y  screen_coor_x  screen_coor_y  hover_duration  \\\n",
       "0  -413.991394  -159.314682          380.0          494.0             NaN   \n",
       "1  -413.991394  -159.314682          380.0          494.0             NaN   \n",
       "2  -413.991394  -159.314682          380.0          494.0             NaN   \n",
       "3  -413.991394  -159.314682          380.0          494.0             NaN   \n",
       "4  -412.991394  -159.314682          381.0          494.0             NaN   \n",
       "\n",
       "                            text    fqid                       room_fqid  \\\n",
       "0                      undefined   intro  tunic.historicalsociety.closet   \n",
       "1  Whatcha doing over there, Jo?  gramps  tunic.historicalsociety.closet   \n",
       "2         Just talking to Teddy.  gramps  tunic.historicalsociety.closet   \n",
       "3     I gotta run to my meeting!  gramps  tunic.historicalsociety.closet   \n",
       "4            Can I come, Gramps?  gramps  tunic.historicalsociety.closet   \n",
       "\n",
       "                                           text_fqid fullscreen hq music  \\\n",
       "0               tunic.historicalsociety.closet.intro          0  0     1   \n",
       "1  tunic.historicalsociety.closet.gramps.intro_0_...          0  0     1   \n",
       "2  tunic.historicalsociety.closet.gramps.intro_0_...          0  0     1   \n",
       "3  tunic.historicalsociety.closet.gramps.intro_0_...          0  0     1   \n",
       "4  tunic.historicalsociety.closet.gramps.intro_0_...          0  0     1   \n",
       "\n",
       "  level_group  \n",
       "0         0-4  \n",
       "1         0-4  \n",
       "2         0-4  \n",
       "3         0-4  \n",
       "4         0-4  "
      ]
     },
     "execution_count": 4,
     "metadata": {},
     "output_type": "execute_result"
    }
   ],
   "source": [
    "# Display the first 5 examples\n",
    "dataset_df.head(5)"
   ]
  },
  {
   "cell_type": "markdown",
   "id": "02914177",
   "metadata": {
    "id": "ZRZu8V9NpTVN",
    "papermill": {
     "duration": 0.016791,
     "end_time": "2023-05-11T12:03:55.201309",
     "exception": false,
     "start_time": "2023-05-11T12:03:55.184518",
     "status": "completed"
    },
    "tags": []
   },
   "source": [
    "`session_id` uniquely identifies a user session."
   ]
  },
  {
   "cell_type": "markdown",
   "id": "15ae7669",
   "metadata": {},
   "source": [
    "# Feature Explanation\n",
    "**Most of these features seem unlikely to impact a prediction:**\n",
    "\n",
    "\n",
    "1. **session_id:** The ID of a session merely serves as a unique identifier and doesn't provide any substantive information about a gamer's performance.\n",
    "\n",
    "2. **index:** Similarly, the index of an event for a session is an ordering detail that does not correlate with a player's skill level.\n",
    "\n",
    "3. **elapsed_time:** This feature provides temporal context of the TOTAL time in a session but not on the exact question. However we can extrapolate time elapsed for one question with a little engineering.\n",
    "\n",
    "4. **event_name, name:** These are specific events or actions taken in the game, which can be quite diverse and may not necessarily reflect the player's overall performance.\n",
    "\n",
    "5. **level:** While this might seem useful at first, it may not necessarily correlate with performance because a lower level does not mean a player is less skilled - they could be new to the game or replaying earlier levels.\n",
    "\n",
    "6. **page, room_coor_x, room_coor_y, screen_coor_x, screen_coor_y, hover_duration:** These features are specific to certain types of events and hence provide limited information. A single click or hover event does not adequately represent a gamer's overall performance.\n",
    "\n",
    "7. **text:** The text that a player sees during an event is not a direct indicator of a player's ability or skill level.\n",
    "\n",
    "8. **fqid, room_fqid, text_fqid:** These are identifiers for the event and its context, but again, do not offer insights into the player's performance.\n",
    "\n",
    "9. **fullscreen, hq, music:** These options are player preferences and don't necessarily correlate with performance. A player can perform well irrespective of whether they play in fullscreen, high quality, or with music.\n",
    "\n",
    "10. **level_group:** This provides broader categorization of the level but still suffers from the same limitations as the 'level' feature - it doesn't inherently reflect a player's performance. \n",
    "\n"
   ]
  },
  {
   "cell_type": "markdown",
   "id": "d3206abf",
   "metadata": {
    "id": "ReNY-i3bn2O8",
    "papermill": {
     "duration": 0.016708,
     "end_time": "2023-05-11T12:03:55.235360",
     "exception": false,
     "start_time": "2023-05-11T12:03:55.218652",
     "status": "completed"
    },
    "tags": []
   },
   "source": [
    "# Load the labels\n",
    "\n",
    "The training dataset's labels are kept in the `train_labels.csv` file. This file contains information regarding the accuracy of each user's answers in specific sessions. You can load the labels data by executing the given code snippet. \n",
    "\n",
    "In the column named session_id, each entry is a fusion of the session identifier and the question number. For convenience, these will be separated into individual columns.\n",
    "\n",
    "The objective here is to construct models for each question with the ability to predict the 'correct' label for any given user session.`"
   ]
  },
  {
   "cell_type": "code",
   "execution_count": 5,
   "id": "ad35520b",
   "metadata": {
    "execution": {
     "iopub.execute_input": "2023-05-11T12:03:55.271659Z",
     "iopub.status.busy": "2023-05-11T12:03:55.270821Z",
     "iopub.status.idle": "2023-05-11T12:03:55.646149Z",
     "shell.execute_reply": "2023-05-11T12:03:55.644943Z"
    },
    "id": "KD4uayl2n2O9",
    "papermill": {
     "duration": 0.396824,
     "end_time": "2023-05-11T12:03:55.649102",
     "exception": false,
     "start_time": "2023-05-11T12:03:55.252278",
     "status": "completed"
    },
    "tags": []
   },
   "outputs": [],
   "source": [
    "labels = pd.read_csv('train_labels.csv')"
   ]
  },
  {
   "cell_type": "code",
   "execution_count": 6,
   "id": "bc945522",
   "metadata": {
    "execution": {
     "iopub.execute_input": "2023-05-11T12:03:55.719916Z",
     "iopub.status.busy": "2023-05-11T12:03:55.719100Z",
     "iopub.status.idle": "2023-05-11T12:03:56.874125Z",
     "shell.execute_reply": "2023-05-11T12:03:56.872928Z"
    },
    "id": "Kva8_Dbqn2O9",
    "papermill": {
     "duration": 1.177692,
     "end_time": "2023-05-11T12:03:56.877734",
     "exception": false,
     "start_time": "2023-05-11T12:03:55.700042",
     "status": "completed"
    },
    "tags": []
   },
   "outputs": [],
   "source": [
    "labels['session'] = labels.session_id.apply(lambda x: int(x.split('_')[0]) )\n",
    "labels['q'] = labels.session_id.apply(lambda x: int(x.split('_')[-1][1:]) )"
   ]
  },
  {
   "cell_type": "code",
   "execution_count": 7,
   "id": "953b17c0",
   "metadata": {
    "execution": {
     "iopub.execute_input": "2023-05-11T12:03:56.948448Z",
     "iopub.status.busy": "2023-05-11T12:03:56.948035Z",
     "iopub.status.idle": "2023-05-11T12:03:56.961472Z",
     "shell.execute_reply": "2023-05-11T12:03:56.960518Z"
    },
    "id": "0eD-KZMvn2O-",
    "papermill": {
     "duration": 0.034603,
     "end_time": "2023-05-11T12:03:56.964489",
     "exception": false,
     "start_time": "2023-05-11T12:03:56.929886",
     "status": "completed"
    },
    "tags": []
   },
   "outputs": [
    {
     "data": {
      "text/html": [
       "<div>\n",
       "<style scoped>\n",
       "    .dataframe tbody tr th:only-of-type {\n",
       "        vertical-align: middle;\n",
       "    }\n",
       "\n",
       "    .dataframe tbody tr th {\n",
       "        vertical-align: top;\n",
       "    }\n",
       "\n",
       "    .dataframe thead th {\n",
       "        text-align: right;\n",
       "    }\n",
       "</style>\n",
       "<table border=\"1\" class=\"dataframe\">\n",
       "  <thead>\n",
       "    <tr style=\"text-align: right;\">\n",
       "      <th></th>\n",
       "      <th>session_id</th>\n",
       "      <th>correct</th>\n",
       "      <th>session</th>\n",
       "      <th>q</th>\n",
       "    </tr>\n",
       "  </thead>\n",
       "  <tbody>\n",
       "    <tr>\n",
       "      <th>0</th>\n",
       "      <td>20090312431273200_q1</td>\n",
       "      <td>1</td>\n",
       "      <td>20090312431273200</td>\n",
       "      <td>1</td>\n",
       "    </tr>\n",
       "    <tr>\n",
       "      <th>1</th>\n",
       "      <td>20090312433251036_q1</td>\n",
       "      <td>0</td>\n",
       "      <td>20090312433251036</td>\n",
       "      <td>1</td>\n",
       "    </tr>\n",
       "    <tr>\n",
       "      <th>2</th>\n",
       "      <td>20090312455206810_q1</td>\n",
       "      <td>1</td>\n",
       "      <td>20090312455206810</td>\n",
       "      <td>1</td>\n",
       "    </tr>\n",
       "    <tr>\n",
       "      <th>3</th>\n",
       "      <td>20090313091715820_q1</td>\n",
       "      <td>0</td>\n",
       "      <td>20090313091715820</td>\n",
       "      <td>1</td>\n",
       "    </tr>\n",
       "    <tr>\n",
       "      <th>4</th>\n",
       "      <td>20090313571836404_q1</td>\n",
       "      <td>1</td>\n",
       "      <td>20090313571836404</td>\n",
       "      <td>1</td>\n",
       "    </tr>\n",
       "  </tbody>\n",
       "</table>\n",
       "</div>"
      ],
      "text/plain": [
       "             session_id  correct            session  q\n",
       "0  20090312431273200_q1        1  20090312431273200  1\n",
       "1  20090312433251036_q1        0  20090312433251036  1\n",
       "2  20090312455206810_q1        1  20090312455206810  1\n",
       "3  20090313091715820_q1        0  20090313091715820  1\n",
       "4  20090313571836404_q1        1  20090313571836404  1"
      ]
     },
     "execution_count": 7,
     "metadata": {},
     "output_type": "execute_result"
    }
   ],
   "source": [
    "# Display the first 5 examples\n",
    "labels.head(5)"
   ]
  },
  {
   "cell_type": "markdown",
   "id": "a1583996",
   "metadata": {
    "id": "JLHAQ1EEn2O-",
    "papermill": {
     "duration": 0.017004,
     "end_time": "2023-05-11T12:03:57.037696",
     "exception": false,
     "start_time": "2023-05-11T12:03:57.020692",
     "status": "completed"
    },
    "tags": []
   },
   "source": [
    "# Bar charts for label spreads"
   ]
  },
  {
   "cell_type": "code",
   "execution_count": 8,
   "id": "37d667aa",
   "metadata": {
    "execution": {
     "iopub.execute_input": "2023-05-11T12:03:57.109714Z",
     "iopub.status.busy": "2023-05-11T12:03:57.109308Z",
     "iopub.status.idle": "2023-05-11T12:03:57.397099Z",
     "shell.execute_reply": "2023-05-11T12:03:57.395957Z"
    },
    "id": "-l9wBCTYn2O_",
    "papermill": {
     "duration": 0.309255,
     "end_time": "2023-05-11T12:03:57.399835",
     "exception": false,
     "start_time": "2023-05-11T12:03:57.090580",
     "status": "completed"
    },
    "tags": []
   },
   "outputs": [
    {
     "data": {
      "text/plain": [
       "<AxesSubplot: >"
      ]
     },
     "execution_count": 8,
     "metadata": {},
     "output_type": "execute_result"
    },
    {
     "data": {
      "image/png": "[encoded data removed]",
      "text/plain": [
       "<Figure size 216x216 with 1 Axes>"
      ]
     },
     "metadata": {
      "needs_background": "light"
     },
     "output_type": "display_data"
    }
   ],
   "source": [
    "plt.figure(figsize=(3, 3))\n",
    "plot_df = labels.correct.value_counts()\n",
    "plot_df.plot(kind=\"bar\", color=['b', 'c'])"
   ]
  },
  {
   "cell_type": "markdown",
   "id": "dd8d0419",
   "metadata": {
    "id": "ghnQfNQin2O_",
    "papermill": {
     "duration": 0.01741,
     "end_time": "2023-05-11T12:03:57.435052",
     "exception": false,
     "start_time": "2023-05-11T12:03:57.417642",
     "status": "completed"
    },
    "tags": []
   },
   "source": [
    "Now, let us plot the values of the label column `correct` for each question. By doing this, we can see which questions would be easily predictable and which ones the model would have more trouble predicting."
   ]
  },
  {
   "cell_type": "code",
   "execution_count": 9,
   "id": "302f5f0d",
   "metadata": {
    "execution": {
     "iopub.execute_input": "2023-05-11T12:03:57.474036Z",
     "iopub.status.busy": "2023-05-11T12:03:57.473171Z",
     "iopub.status.idle": "2023-05-11T12:03:59.394064Z",
     "shell.execute_reply": "2023-05-11T12:03:59.393096Z"
    },
    "id": "X238--97n2O_",
    "papermill": {
     "duration": 1.945531,
     "end_time": "2023-05-11T12:03:59.398349",
     "exception": false,
     "start_time": "2023-05-11T12:03:57.452818",
     "status": "completed"
    },
    "tags": []
   },
   "outputs": [
    {
     "data": {
      "image/png": "[encoded data removed]",
      "text/plain": [
       "<Figure size 720x1440 with 18 Axes>"
      ]
     },
     "metadata": {
      "needs_background": "light"
     },
     "output_type": "display_data"
    }
   ],
   "source": [
    "plt.figure(figsize=(10, 20))\n",
    "plt.subplots_adjust(hspace=0.5, wspace=0.5)\n",
    "plt.suptitle(\"\\\"Correct\\\" column values for each question\", fontsize=14, y=0.94)\n",
    "for n in range(1,19):\n",
    "    #print(n, str(n))\n",
    "    ax = plt.subplot(6, 3, n)\n",
    "\n",
    "    # filter df and plot ticker on the new subplot axis\n",
    "    plot_df = labels.loc[labels.q == n]\n",
    "    plot_df = plot_df.correct.value_counts()\n",
    "    plot_df.plot(ax=ax, kind=\"bar\", color=['b', 'c'])\n",
    "    \n",
    "    # chart formatting\n",
    "    ax.set_title(\"Question \" + str(n))\n",
    "    ax.set_xlabel(\"\")\n"
   ]
  },
  {
   "cell_type": "markdown",
   "id": "c804df25",
   "metadata": {
    "id": "y5fK05dsn2O_",
    "papermill": {
     "duration": 0.019356,
     "end_time": "2023-05-11T12:03:59.437473",
     "exception": false,
     "start_time": "2023-05-11T12:03:59.418117",
     "status": "completed"
    },
    "tags": []
   },
   "source": [
    "# Feature Engineering dataset\n",
    "\n",
    "\n",
    "The dataset delivers questions and data in the order of levels - level segments (denoted by the level_group column), specifically in groups of 0-4, 5-12, and 13-22. The task involves predicting the correctness of each segment's questions as they appear. To accomplish this, basic aggregate features will be constructed from the pertinent columns. Building more features could potentially enhance the prediction scores.\n",
    "\n",
    "To begin with, two distinct lists will be established for the Categorical columns and Numerical columns. The columns fullscreen, hq, and music will be disregarded as they don't contribute valuable insights for this particular problem statement."
   ]
  },
  {
   "cell_type": "code",
   "execution_count": 10,
   "id": "abb4e96d",
   "metadata": {
    "execution": {
     "iopub.execute_input": "2023-05-11T12:03:59.478414Z",
     "iopub.status.busy": "2023-05-11T12:03:59.477976Z",
     "iopub.status.idle": "2023-05-11T12:03:59.483571Z",
     "shell.execute_reply": "2023-05-11T12:03:59.482568Z"
    },
    "id": "cCZWGiL_n2PA",
    "papermill": {
     "duration": 0.029012,
     "end_time": "2023-05-11T12:03:59.485936",
     "exception": false,
     "start_time": "2023-05-11T12:03:59.456924",
     "status": "completed"
    },
    "tags": []
   },
   "outputs": [],
   "source": [
    "CATEGORICAL = ['event_name', 'name','fqid', 'room_fqid', 'text_fqid']\n",
    "NUMERICAL = ['elapsed_time','level','page','room_coor_x', 'room_coor_y', \n",
    "        'screen_coor_x', 'screen_coor_y', 'hover_duration']"
   ]
  },
  {
   "cell_type": "markdown",
   "id": "10f00301",
   "metadata": {
    "id": "Us9sScDSn2PA",
    "papermill": {
     "duration": 0.019323,
     "end_time": "2023-05-11T12:03:59.524962",
     "exception": false,
     "start_time": "2023-05-11T12:03:59.505639",
     "status": "completed"
    },
    "tags": []
   },
   "source": [
    "Each categorical column will undergo grouping by `session_id` and `level_group`. Following that, the quantity of **distinct elements** within each column for every group will be calculated and temporarily stored.\n",
    "\n",
    "When handling numerical columns, the dataset will be grouped again by `session id` and `level_group`. Rather than tallying the count of unique elements, the `mean` and `standard deviation` for each numerical column within the group will be determined and temporarily stored.\n",
    "\n",
    "Once these steps are completed, the temporary data frames generated for each column in the previous steps will be concatenated to create a newly feature-engineered dataset."
   ]
  },
  {
   "cell_type": "code",
   "execution_count": 11,
   "id": "f6636a3c",
   "metadata": {
    "execution": {
     "iopub.execute_input": "2023-05-11T12:03:59.567235Z",
     "iopub.status.busy": "2023-05-11T12:03:59.566433Z",
     "iopub.status.idle": "2023-05-11T12:03:59.575847Z",
     "shell.execute_reply": "2023-05-11T12:03:59.574931Z"
    },
    "id": "nHWhAOtTn2PA",
    "papermill": {
     "duration": 0.032962,
     "end_time": "2023-05-11T12:03:59.578267",
     "exception": false,
     "start_time": "2023-05-11T12:03:59.545305",
     "status": "completed"
    },
    "tags": []
   },
   "outputs": [],
   "source": [
    "# Reference: https://www.kaggle.com/code/cdeotte/random-forest-baseline-0-664/notebook\n",
    "\n",
    "def feature_engineer(dataset_df):\n",
    "    dfs = []\n",
    "    for c in CATEGORICAL:\n",
    "        tmp = dataset_df.groupby(['session_id','level_group'])[c].agg('nunique')\n",
    "        tmp.name = tmp.name + '_nunique'\n",
    "        dfs.append(tmp)\n",
    "    for c in NUMERICAL:\n",
    "        tmp = dataset_df.groupby(['session_id','level_group'])[c].agg('mean')\n",
    "        dfs.append(tmp)\n",
    "    for c in NUMERICAL:\n",
    "        tmp = dataset_df.groupby(['session_id','level_group'])[c].agg('std')\n",
    "        tmp.name = tmp.name + '_std'\n",
    "        dfs.append(tmp)\n",
    "    dataset_df = pd.concat(dfs,axis=1)\n",
    "    dataset_df = dataset_df.fillna(-1)\n",
    "    dataset_df = dataset_df.reset_index()\n",
    "    dataset_df = dataset_df.set_index('session_id')\n",
    "    return dataset_df"
   ]
  },
  {
   "cell_type": "code",
   "execution_count": 12,
   "id": "c6081a19",
   "metadata": {
    "execution": {
     "iopub.execute_input": "2023-05-11T12:03:59.620089Z",
     "iopub.status.busy": "2023-05-11T12:03:59.619245Z",
     "iopub.status.idle": "2023-05-11T12:04:39.088447Z",
     "shell.execute_reply": "2023-05-11T12:04:39.087396Z"
    },
    "id": "JKcoPoemn2PA",
    "papermill": {
     "duration": 39.512491,
     "end_time": "2023-05-11T12:04:39.110569",
     "exception": false,
     "start_time": "2023-05-11T12:03:59.598078",
     "status": "completed"
    },
    "tags": []
   },
   "outputs": [
    {
     "name": "stdout",
     "output_type": "stream",
     "text": [
      "Full prepared dataset shape is (70686, 22)\n"
     ]
    }
   ],
   "source": [
    "dataset_df = feature_engineer(dataset_df)\n",
    "print(\"Full prepared dataset shape is {}\".format(dataset_df.shape))"
   ]
  },
  {
   "cell_type": "markdown",
   "id": "ba56d3e7",
   "metadata": {
    "id": "Ij7TT3x-n2PB",
    "papermill": {
     "duration": 0.019355,
     "end_time": "2023-05-11T12:04:39.190102",
     "exception": false,
     "start_time": "2023-05-11T12:04:39.170747",
     "status": "completed"
    },
    "tags": []
   },
   "source": [
    "# Basic exploration of the prepared dataset"
   ]
  },
  {
   "cell_type": "markdown",
   "id": "a05640b1",
   "metadata": {
    "id": "s1c59fMAn2PB",
    "papermill": {
     "duration": 0.019719,
     "end_time": "2023-05-11T12:04:39.230799",
     "exception": false,
     "start_time": "2023-05-11T12:04:39.211080",
     "status": "completed"
    },
    "tags": []
   },
   "source": [
    "Let us print out the first 5 entries using the following code:"
   ]
  },
  {
   "cell_type": "code",
   "execution_count": 13,
   "id": "75f27bd2",
   "metadata": {
    "execution": {
     "iopub.execute_input": "2023-05-11T12:04:39.273750Z",
     "iopub.status.busy": "2023-05-11T12:04:39.272900Z",
     "iopub.status.idle": "2023-05-11T12:04:39.305263Z",
     "shell.execute_reply": "2023-05-11T12:04:39.304192Z"
    },
    "id": "mvQEsdV1n2PB",
    "papermill": {
     "duration": 0.056452,
     "end_time": "2023-05-11T12:04:39.308018",
     "exception": false,
     "start_time": "2023-05-11T12:04:39.251566",
     "status": "completed"
    },
    "tags": []
   },
   "outputs": [
    {
     "data": {
      "text/html": [
       "<div>\n",
       "<style scoped>\n",
       "    .dataframe tbody tr th:only-of-type {\n",
       "        vertical-align: middle;\n",
       "    }\n",
       "\n",
       "    .dataframe tbody tr th {\n",
       "        vertical-align: top;\n",
       "    }\n",
       "\n",
       "    .dataframe thead th {\n",
       "        text-align: right;\n",
       "    }\n",
       "</style>\n",
       "<table border=\"1\" class=\"dataframe\">\n",
       "  <thead>\n",
       "    <tr style=\"text-align: right;\">\n",
       "      <th></th>\n",
       "      <th>level_group</th>\n",
       "      <th>event_name_nunique</th>\n",
       "      <th>name_nunique</th>\n",
       "      <th>fqid_nunique</th>\n",
       "      <th>room_fqid_nunique</th>\n",
       "      <th>text_fqid_nunique</th>\n",
       "      <th>elapsed_time</th>\n",
       "      <th>level</th>\n",
       "      <th>page</th>\n",
       "      <th>room_coor_x</th>\n",
       "      <th>...</th>\n",
       "      <th>screen_coor_y</th>\n",
       "      <th>hover_duration</th>\n",
       "      <th>elapsed_time_std</th>\n",
       "      <th>level_std</th>\n",
       "      <th>page_std</th>\n",
       "      <th>room_coor_x_std</th>\n",
       "      <th>room_coor_y_std</th>\n",
       "      <th>screen_coor_x_std</th>\n",
       "      <th>screen_coor_y_std</th>\n",
       "      <th>hover_duration_std</th>\n",
       "    </tr>\n",
       "    <tr>\n",
       "      <th>session_id</th>\n",
       "      <th></th>\n",
       "      <th></th>\n",
       "      <th></th>\n",
       "      <th></th>\n",
       "      <th></th>\n",
       "      <th></th>\n",
       "      <th></th>\n",
       "      <th></th>\n",
       "      <th></th>\n",
       "      <th></th>\n",
       "      <th></th>\n",
       "      <th></th>\n",
       "      <th></th>\n",
       "      <th></th>\n",
       "      <th></th>\n",
       "      <th></th>\n",
       "      <th></th>\n",
       "      <th></th>\n",
       "      <th></th>\n",
       "      <th></th>\n",
       "      <th></th>\n",
       "    </tr>\n",
       "  </thead>\n",
       "  <tbody>\n",
       "    <tr>\n",
       "      <th>20090312431273200</th>\n",
       "      <td>0-4</td>\n",
       "      <td>10</td>\n",
       "      <td>3</td>\n",
       "      <td>30</td>\n",
       "      <td>7</td>\n",
       "      <td>17</td>\n",
       "      <td>8.579356e+04</td>\n",
       "      <td>1.945455</td>\n",
       "      <td>-1.0</td>\n",
       "      <td>7.701275</td>\n",
       "      <td>...</td>\n",
       "      <td>383.044861</td>\n",
       "      <td>2389.500000</td>\n",
       "      <td>49246.539458</td>\n",
       "      <td>1.230975</td>\n",
       "      <td>-1.000000</td>\n",
       "      <td>399.296038</td>\n",
       "      <td>129.292411</td>\n",
       "      <td>214.871000</td>\n",
       "      <td>104.082743</td>\n",
       "      <td>3227.370757</td>\n",
       "    </tr>\n",
       "    <tr>\n",
       "      <th>20090312431273200</th>\n",
       "      <td>13-22</td>\n",
       "      <td>10</td>\n",
       "      <td>3</td>\n",
       "      <td>49</td>\n",
       "      <td>12</td>\n",
       "      <td>35</td>\n",
       "      <td>1.040601e+06</td>\n",
       "      <td>17.402381</td>\n",
       "      <td>-1.0</td>\n",
       "      <td>-130.347168</td>\n",
       "      <td>...</td>\n",
       "      <td>379.301025</td>\n",
       "      <td>899.925903</td>\n",
       "      <td>126666.129584</td>\n",
       "      <td>2.358652</td>\n",
       "      <td>-1.000000</td>\n",
       "      <td>622.061374</td>\n",
       "      <td>230.370874</td>\n",
       "      <td>240.280218</td>\n",
       "      <td>99.067861</td>\n",
       "      <td>1305.088265</td>\n",
       "    </tr>\n",
       "    <tr>\n",
       "      <th>20090312431273200</th>\n",
       "      <td>5-12</td>\n",
       "      <td>10</td>\n",
       "      <td>3</td>\n",
       "      <td>39</td>\n",
       "      <td>11</td>\n",
       "      <td>24</td>\n",
       "      <td>3.572052e+05</td>\n",
       "      <td>8.054054</td>\n",
       "      <td>-1.0</td>\n",
       "      <td>14.306062</td>\n",
       "      <td>...</td>\n",
       "      <td>378.784912</td>\n",
       "      <td>969.333313</td>\n",
       "      <td>80175.676658</td>\n",
       "      <td>2.096919</td>\n",
       "      <td>-1.000000</td>\n",
       "      <td>357.227701</td>\n",
       "      <td>137.409476</td>\n",
       "      <td>203.268560</td>\n",
       "      <td>120.255453</td>\n",
       "      <td>1316.408315</td>\n",
       "    </tr>\n",
       "    <tr>\n",
       "      <th>20090312433251036</th>\n",
       "      <td>0-4</td>\n",
       "      <td>11</td>\n",
       "      <td>4</td>\n",
       "      <td>22</td>\n",
       "      <td>6</td>\n",
       "      <td>11</td>\n",
       "      <td>9.763342e+04</td>\n",
       "      <td>1.870504</td>\n",
       "      <td>0.0</td>\n",
       "      <td>-84.045959</td>\n",
       "      <td>...</td>\n",
       "      <td>370.723083</td>\n",
       "      <td>1378.750000</td>\n",
       "      <td>67372.714092</td>\n",
       "      <td>1.232616</td>\n",
       "      <td>0.000000</td>\n",
       "      <td>445.980041</td>\n",
       "      <td>156.186242</td>\n",
       "      <td>252.554707</td>\n",
       "      <td>121.062929</td>\n",
       "      <td>2114.876406</td>\n",
       "    </tr>\n",
       "    <tr>\n",
       "      <th>20090312433251036</th>\n",
       "      <td>13-22</td>\n",
       "      <td>11</td>\n",
       "      <td>6</td>\n",
       "      <td>73</td>\n",
       "      <td>16</td>\n",
       "      <td>43</td>\n",
       "      <td>2.498852e+06</td>\n",
       "      <td>17.762529</td>\n",
       "      <td>5.1</td>\n",
       "      <td>-30.762283</td>\n",
       "      <td>...</td>\n",
       "      <td>387.930084</td>\n",
       "      <td>720.384949</td>\n",
       "      <td>777382.529186</td>\n",
       "      <td>1.825923</td>\n",
       "      <td>0.863075</td>\n",
       "      <td>529.575656</td>\n",
       "      <td>234.279590</td>\n",
       "      <td>259.288856</td>\n",
       "      <td>133.345693</td>\n",
       "      <td>1990.705518</td>\n",
       "    </tr>\n",
       "  </tbody>\n",
       "</table>\n",
       "<p>5 rows × 22 columns</p>\n",
       "</div>"
      ],
      "text/plain": [
       "                  level_group  event_name_nunique  name_nunique  fqid_nunique  \\\n",
       "session_id                                                                      \n",
       "20090312431273200         0-4                  10             3            30   \n",
       "20090312431273200       13-22                  10             3            49   \n",
       "20090312431273200        5-12                  10             3            39   \n",
       "20090312433251036         0-4                  11             4            22   \n",
       "20090312433251036       13-22                  11             6            73   \n",
       "\n",
       "                   room_fqid_nunique  text_fqid_nunique  elapsed_time  \\\n",
       "session_id                                                              \n",
       "20090312431273200                  7                 17  8.579356e+04   \n",
       "20090312431273200                 12                 35  1.040601e+06   \n",
       "20090312431273200                 11                 24  3.572052e+05   \n",
       "20090312433251036                  6                 11  9.763342e+04   \n",
       "20090312433251036                 16                 43  2.498852e+06   \n",
       "\n",
       "                       level  page  room_coor_x  ...  screen_coor_y  \\\n",
       "session_id                                       ...                  \n",
       "20090312431273200   1.945455  -1.0     7.701275  ...     383.044861   \n",
       "20090312431273200  17.402381  -1.0  -130.347168  ...     379.301025   \n",
       "20090312431273200   8.054054  -1.0    14.306062  ...     378.784912   \n",
       "20090312433251036   1.870504   0.0   -84.045959  ...     370.723083   \n",
       "20090312433251036  17.762529   5.1   -30.762283  ...     387.930084   \n",
       "\n",
       "                   hover_duration  elapsed_time_std  level_std  page_std  \\\n",
       "session_id                                                                 \n",
       "20090312431273200     2389.500000      49246.539458   1.230975 -1.000000   \n",
       "20090312431273200      899.925903     126666.129584   2.358652 -1.000000   \n",
       "20090312431273200      969.333313      80175.676658   2.096919 -1.000000   \n",
       "20090312433251036     1378.750000      67372.714092   1.232616  0.000000   \n",
       "20090312433251036      720.384949     777382.529186   1.825923  0.863075   \n",
       "\n",
       "                   room_coor_x_std  room_coor_y_std  screen_coor_x_std  \\\n",
       "session_id                                                               \n",
       "20090312431273200       399.296038       129.292411         214.871000   \n",
       "20090312431273200       622.061374       230.370874         240.280218   \n",
       "20090312431273200       357.227701       137.409476         203.268560   \n",
       "20090312433251036       445.980041       156.186242         252.554707   \n",
       "20090312433251036       529.575656       234.279590         259.288856   \n",
       "\n",
       "                   screen_coor_y_std  hover_duration_std  \n",
       "session_id                                                \n",
       "20090312431273200         104.082743         3227.370757  \n",
       "20090312431273200          99.067861         1305.088265  \n",
       "20090312431273200         120.255453         1316.408315  \n",
       "20090312433251036         121.062929         2114.876406  \n",
       "20090312433251036         133.345693         1990.705518  \n",
       "\n",
       "[5 rows x 22 columns]"
      ]
     },
     "execution_count": 13,
     "metadata": {},
     "output_type": "execute_result"
    }
   ],
   "source": [
    "# Display the first 5 examples\n",
    "dataset_df.head(5)"
   ]
  },
  {
   "cell_type": "code",
   "execution_count": 14,
   "id": "32e75e7b",
   "metadata": {
    "execution": {
     "iopub.execute_input": "2023-05-11T12:04:39.350748Z",
     "iopub.status.busy": "2023-05-11T12:04:39.349934Z",
     "iopub.status.idle": "2023-05-11T12:04:39.495531Z",
     "shell.execute_reply": "2023-05-11T12:04:39.494548Z"
    },
    "id": "DRusg-N1n2PB",
    "papermill": {
     "duration": 0.169704,
     "end_time": "2023-05-11T12:04:39.498188",
     "exception": false,
     "start_time": "2023-05-11T12:04:39.328484",
     "status": "completed"
    },
    "tags": []
   },
   "outputs": [
    {
     "data": {
      "text/html": [
       "<div>\n",
       "<style scoped>\n",
       "    .dataframe tbody tr th:only-of-type {\n",
       "        vertical-align: middle;\n",
       "    }\n",
       "\n",
       "    .dataframe tbody tr th {\n",
       "        vertical-align: top;\n",
       "    }\n",
       "\n",
       "    .dataframe thead th {\n",
       "        text-align: right;\n",
       "    }\n",
       "</style>\n",
       "<table border=\"1\" class=\"dataframe\">\n",
       "  <thead>\n",
       "    <tr style=\"text-align: right;\">\n",
       "      <th></th>\n",
       "      <th>event_name_nunique</th>\n",
       "      <th>name_nunique</th>\n",
       "      <th>fqid_nunique</th>\n",
       "      <th>room_fqid_nunique</th>\n",
       "      <th>text_fqid_nunique</th>\n",
       "      <th>elapsed_time</th>\n",
       "      <th>level</th>\n",
       "      <th>page</th>\n",
       "      <th>room_coor_x</th>\n",
       "      <th>room_coor_y</th>\n",
       "      <th>...</th>\n",
       "      <th>screen_coor_y</th>\n",
       "      <th>hover_duration</th>\n",
       "      <th>elapsed_time_std</th>\n",
       "      <th>level_std</th>\n",
       "      <th>page_std</th>\n",
       "      <th>room_coor_x_std</th>\n",
       "      <th>room_coor_y_std</th>\n",
       "      <th>screen_coor_x_std</th>\n",
       "      <th>screen_coor_y_std</th>\n",
       "      <th>hover_duration_std</th>\n",
       "    </tr>\n",
       "  </thead>\n",
       "  <tbody>\n",
       "    <tr>\n",
       "      <th>count</th>\n",
       "      <td>70686.000000</td>\n",
       "      <td>70686.000000</td>\n",
       "      <td>70686.000000</td>\n",
       "      <td>70686.000000</td>\n",
       "      <td>70686.000000</td>\n",
       "      <td>7.068600e+04</td>\n",
       "      <td>70686.000000</td>\n",
       "      <td>70686.000000</td>\n",
       "      <td>70686.000000</td>\n",
       "      <td>70686.000000</td>\n",
       "      <td>...</td>\n",
       "      <td>70686.000000</td>\n",
       "      <td>7.068600e+04</td>\n",
       "      <td>7.068600e+04</td>\n",
       "      <td>70686.000000</td>\n",
       "      <td>70686.000000</td>\n",
       "      <td>70686.000000</td>\n",
       "      <td>70686.000000</td>\n",
       "      <td>70686.000000</td>\n",
       "      <td>70686.000000</td>\n",
       "      <td>7.068600e+04</td>\n",
       "    </tr>\n",
       "    <tr>\n",
       "      <th>mean</th>\n",
       "      <td>10.390021</td>\n",
       "      <td>3.885324</td>\n",
       "      <td>40.468650</td>\n",
       "      <td>10.268908</td>\n",
       "      <td>23.838412</td>\n",
       "      <td>2.811806e+06</td>\n",
       "      <td>9.311221</td>\n",
       "      <td>1.439995</td>\n",
       "      <td>-33.454849</td>\n",
       "      <td>-92.222832</td>\n",
       "      <td>...</td>\n",
       "      <td>379.749146</td>\n",
       "      <td>4.119625e+03</td>\n",
       "      <td>9.322398e+05</td>\n",
       "      <td>1.916549</td>\n",
       "      <td>0.038805</td>\n",
       "      <td>468.689088</td>\n",
       "      <td>183.186301</td>\n",
       "      <td>240.795420</td>\n",
       "      <td>124.016602</td>\n",
       "      <td>1.322598e+04</td>\n",
       "    </tr>\n",
       "    <tr>\n",
       "      <th>std</th>\n",
       "      <td>0.832923</td>\n",
       "      <td>0.799293</td>\n",
       "      <td>13.020929</td>\n",
       "      <td>2.928351</td>\n",
       "      <td>8.989095</td>\n",
       "      <td>2.289877e+07</td>\n",
       "      <td>6.523788</td>\n",
       "      <td>2.350494</td>\n",
       "      <td>80.784149</td>\n",
       "      <td>69.348717</td>\n",
       "      <td>...</td>\n",
       "      <td>36.970734</td>\n",
       "      <td>1.394078e+05</td>\n",
       "      <td>1.206491e+07</td>\n",
       "      <td>0.492239</td>\n",
       "      <td>0.785170</td>\n",
       "      <td>106.991644</td>\n",
       "      <td>48.884988</td>\n",
       "      <td>28.709135</td>\n",
       "      <td>15.844603</td>\n",
       "      <td>4.868272e+05</td>\n",
       "    </tr>\n",
       "    <tr>\n",
       "      <th>min</th>\n",
       "      <td>7.000000</td>\n",
       "      <td>3.000000</td>\n",
       "      <td>18.000000</td>\n",
       "      <td>5.000000</td>\n",
       "      <td>8.000000</td>\n",
       "      <td>4.591262e+02</td>\n",
       "      <td>0.923372</td>\n",
       "      <td>-1.000000</td>\n",
       "      <td>-461.440765</td>\n",
       "      <td>-409.231293</td>\n",
       "      <td>...</td>\n",
       "      <td>177.051849</td>\n",
       "      <td>-1.000000e+00</td>\n",
       "      <td>2.337003e+02</td>\n",
       "      <td>0.684670</td>\n",
       "      <td>-1.000000</td>\n",
       "      <td>261.425412</td>\n",
       "      <td>90.098533</td>\n",
       "      <td>109.415466</td>\n",
       "      <td>68.257406</td>\n",
       "      <td>-1.000000e+00</td>\n",
       "    </tr>\n",
       "    <tr>\n",
       "      <th>25%</th>\n",
       "      <td>10.000000</td>\n",
       "      <td>3.000000</td>\n",
       "      <td>25.000000</td>\n",
       "      <td>7.000000</td>\n",
       "      <td>15.000000</td>\n",
       "      <td>1.642777e+05</td>\n",
       "      <td>2.051613</td>\n",
       "      <td>-1.000000</td>\n",
       "      <td>-90.615677</td>\n",
       "      <td>-151.717484</td>\n",
       "      <td>...</td>\n",
       "      <td>358.117455</td>\n",
       "      <td>9.709706e+02</td>\n",
       "      <td>8.240024e+04</td>\n",
       "      <td>1.295298</td>\n",
       "      <td>-1.000000</td>\n",
       "      <td>381.066225</td>\n",
       "      <td>143.588600</td>\n",
       "      <td>222.569734</td>\n",
       "      <td>113.994303</td>\n",
       "      <td>1.368802e+03</td>\n",
       "    </tr>\n",
       "    <tr>\n",
       "      <th>50%</th>\n",
       "      <td>11.000000</td>\n",
       "      <td>4.000000</td>\n",
       "      <td>43.000000</td>\n",
       "      <td>11.000000</td>\n",
       "      <td>23.000000</td>\n",
       "      <td>5.882137e+05</td>\n",
       "      <td>8.140526</td>\n",
       "      <td>1.000000</td>\n",
       "      <td>-20.255625</td>\n",
       "      <td>-71.538723</td>\n",
       "      <td>...</td>\n",
       "      <td>377.843857</td>\n",
       "      <td>1.427761e+03</td>\n",
       "      <td>1.440869e+05</td>\n",
       "      <td>2.099711</td>\n",
       "      <td>0.000000</td>\n",
       "      <td>431.901352</td>\n",
       "      <td>162.941973</td>\n",
       "      <td>238.383832</td>\n",
       "      <td>122.388964</td>\n",
       "      <td>2.041432e+03</td>\n",
       "    </tr>\n",
       "    <tr>\n",
       "      <th>75%</th>\n",
       "      <td>11.000000</td>\n",
       "      <td>4.000000</td>\n",
       "      <td>51.000000</td>\n",
       "      <td>12.000000</td>\n",
       "      <td>32.000000</td>\n",
       "      <td>1.351434e+06</td>\n",
       "      <td>17.592593</td>\n",
       "      <td>4.000000</td>\n",
       "      <td>23.220109</td>\n",
       "      <td>-38.693486</td>\n",
       "      <td>...</td>\n",
       "      <td>397.018394</td>\n",
       "      <td>2.158794e+03</td>\n",
       "      <td>2.240529e+05</td>\n",
       "      <td>2.316163</td>\n",
       "      <td>0.735893</td>\n",
       "      <td>585.347609</td>\n",
       "      <td>233.385259</td>\n",
       "      <td>255.083349</td>\n",
       "      <td>132.067430</td>\n",
       "      <td>3.105588e+03</td>\n",
       "    </tr>\n",
       "    <tr>\n",
       "      <th>max</th>\n",
       "      <td>11.000000</td>\n",
       "      <td>6.000000</td>\n",
       "      <td>81.000000</td>\n",
       "      <td>17.000000</td>\n",
       "      <td>48.000000</td>\n",
       "      <td>1.191886e+09</td>\n",
       "      <td>20.222101</td>\n",
       "      <td>6.000000</td>\n",
       "      <td>328.096100</td>\n",
       "      <td>160.347977</td>\n",
       "      <td>...</td>\n",
       "      <td>986.192993</td>\n",
       "      <td>2.772298e+07</td>\n",
       "      <td>9.946229e+08</td>\n",
       "      <td>3.580235</td>\n",
       "      <td>2.715695</td>\n",
       "      <td>817.257133</td>\n",
       "      <td>349.049304</td>\n",
       "      <td>612.958607</td>\n",
       "      <td>331.833790</td>\n",
       "      <td>7.837739e+07</td>\n",
       "    </tr>\n",
       "  </tbody>\n",
       "</table>\n",
       "<p>8 rows × 21 columns</p>\n",
       "</div>"
      ],
      "text/plain": [
       "       event_name_nunique  name_nunique  fqid_nunique  room_fqid_nunique  \\\n",
       "count        70686.000000  70686.000000  70686.000000       70686.000000   \n",
       "mean            10.390021      3.885324     40.468650          10.268908   \n",
       "std              0.832923      0.799293     13.020929           2.928351   \n",
       "min              7.000000      3.000000     18.000000           5.000000   \n",
       "25%             10.000000      3.000000     25.000000           7.000000   \n",
       "50%             11.000000      4.000000     43.000000          11.000000   \n",
       "75%             11.000000      4.000000     51.000000          12.000000   \n",
       "max             11.000000      6.000000     81.000000          17.000000   \n",
       "\n",
       "       text_fqid_nunique  elapsed_time         level          page  \\\n",
       "count       70686.000000  7.068600e+04  70686.000000  70686.000000   \n",
       "mean           23.838412  2.811806e+06      9.311221      1.439995   \n",
       "std             8.989095  2.289877e+07      6.523788      2.350494   \n",
       "min             8.000000  4.591262e+02      0.923372     -1.000000   \n",
       "25%            15.000000  1.642777e+05      2.051613     -1.000000   \n",
       "50%            23.000000  5.882137e+05      8.140526      1.000000   \n",
       "75%            32.000000  1.351434e+06     17.592593      4.000000   \n",
       "max            48.000000  1.191886e+09     20.222101      6.000000   \n",
       "\n",
       "        room_coor_x   room_coor_y  ...  screen_coor_y  hover_duration  \\\n",
       "count  70686.000000  70686.000000  ...   70686.000000    7.068600e+04   \n",
       "mean     -33.454849    -92.222832  ...     379.749146    4.119625e+03   \n",
       "std       80.784149     69.348717  ...      36.970734    1.394078e+05   \n",
       "min     -461.440765   -409.231293  ...     177.051849   -1.000000e+00   \n",
       "25%      -90.615677   -151.717484  ...     358.117455    9.709706e+02   \n",
       "50%      -20.255625    -71.538723  ...     377.843857    1.427761e+03   \n",
       "75%       23.220109    -38.693486  ...     397.018394    2.158794e+03   \n",
       "max      328.096100    160.347977  ...     986.192993    2.772298e+07   \n",
       "\n",
       "       elapsed_time_std     level_std      page_std  room_coor_x_std  \\\n",
       "count      7.068600e+04  70686.000000  70686.000000     70686.000000   \n",
       "mean       9.322398e+05      1.916549      0.038805       468.689088   \n",
       "std        1.206491e+07      0.492239      0.785170       106.991644   \n",
       "min        2.337003e+02      0.684670     -1.000000       261.425412   \n",
       "25%        8.240024e+04      1.295298     -1.000000       381.066225   \n",
       "50%        1.440869e+05      2.099711      0.000000       431.901352   \n",
       "75%        2.240529e+05      2.316163      0.735893       585.347609   \n",
       "max        9.946229e+08      3.580235      2.715695       817.257133   \n",
       "\n",
       "       room_coor_y_std  screen_coor_x_std  screen_coor_y_std  \\\n",
       "count     70686.000000       70686.000000       70686.000000   \n",
       "mean        183.186301         240.795420         124.016602   \n",
       "std          48.884988          28.709135          15.844603   \n",
       "min          90.098533         109.415466          68.257406   \n",
       "25%         143.588600         222.569734         113.994303   \n",
       "50%         162.941973         238.383832         122.388964   \n",
       "75%         233.385259         255.083349         132.067430   \n",
       "max         349.049304         612.958607         331.833790   \n",
       "\n",
       "       hover_duration_std  \n",
       "count        7.068600e+04  \n",
       "mean         1.322598e+04  \n",
       "std          4.868272e+05  \n",
       "min         -1.000000e+00  \n",
       "25%          1.368802e+03  \n",
       "50%          2.041432e+03  \n",
       "75%          3.105588e+03  \n",
       "max          7.837739e+07  \n",
       "\n",
       "[8 rows x 21 columns]"
      ]
     },
     "execution_count": 14,
     "metadata": {},
     "output_type": "execute_result"
    }
   ],
   "source": [
    "dataset_df.describe()"
   ]
  },
  {
   "cell_type": "markdown",
   "id": "27d27f80",
   "metadata": {
    "id": "xboIq9oDn2PB",
    "papermill": {
     "duration": 0.021087,
     "end_time": "2023-05-11T12:04:39.540761",
     "exception": false,
     "start_time": "2023-05-11T12:04:39.519674",
     "status": "completed"
    },
    "tags": []
   },
   "source": [
    "# Numerical data distribution¶\n",
    "\n",
    "Let us plot some numerical columns and their value against each level_group:"
   ]
  },
  {
   "cell_type": "code",
   "execution_count": 15,
   "id": "fabf4772",
   "metadata": {
    "execution": {
     "iopub.execute_input": "2023-05-11T12:04:39.584527Z",
     "iopub.status.busy": "2023-05-11T12:04:39.583703Z",
     "iopub.status.idle": "2023-05-11T12:04:42.266582Z",
     "shell.execute_reply": "2023-05-11T12:04:42.265366Z"
    },
    "id": "mXIiaq_bn2PC",
    "papermill": {
     "duration": 2.70843,
     "end_time": "2023-05-11T12:04:42.269852",
     "exception": false,
     "start_time": "2023-05-11T12:04:39.561422",
     "status": "completed"
    },
    "tags": []
   },
   "outputs": [
    {
     "data": {
      "image/png": "[encoded data removed]",
      "text/plain": [
       "<Figure size 720x720 with 6 Axes>"
      ]
     },
     "metadata": {
      "needs_background": "light"
     },
     "output_type": "display_data"
    }
   ],
   "source": [
    "figure, axis = plt.subplots(3, 2, figsize=(10, 10))\n",
    "\n",
    "for name, data in dataset_df.groupby('level_group'):\n",
    "    axis[0, 0].plot(range(1, len(data['room_coor_x_std'])+1), data['room_coor_x_std'], label=name)\n",
    "    axis[0, 1].plot(range(1, len(data['room_coor_y_std'])+1), data['room_coor_y_std'], label=name)\n",
    "    axis[1, 0].plot(range(1, len(data['screen_coor_x_std'])+1), data['screen_coor_x_std'], label=name)\n",
    "    axis[1, 1].plot(range(1, len(data['screen_coor_y_std'])+1), data['screen_coor_y_std'], label=name)\n",
    "    axis[2, 0].plot(range(1, len(data['hover_duration'])+1), data['hover_duration_std'], label=name)\n",
    "    axis[2, 1].plot(range(1, len(data['elapsed_time_std'])+1), data['elapsed_time_std'], label=name)\n",
    "    \n",
    "\n",
    "axis[0, 0].set_title('room_coor_x')\n",
    "axis[0, 1].set_title('room_coor_y')\n",
    "axis[1, 0].set_title('screen_coor_x')\n",
    "axis[1, 1].set_title('screen_coor_y')\n",
    "axis[2, 0].set_title('hover_duration')\n",
    "axis[2, 1].set_title('elapsed_time_std')\n",
    "\n",
    "for i in range(3):\n",
    "    axis[i, 0].legend()\n",
    "    axis[i, 1].legend()\n",
    "\n",
    "plt.show()"
   ]
  },
  {
   "cell_type": "markdown",
   "id": "e733beca",
   "metadata": {},
   "source": [
    "# Build Feature \"event_duration\"\n",
    "\n",
    "The variable 'event_duration' represents the difference between 'elapsed_time' of two consecutive events. This can often indicate a user's reluctance or uncertainty in answering an unfamiliar question.\n",
    "\n",
    "'Elapsed_time', on the other hand, often contains high values and is susceptible to considerable outliers. It lacks specific context to a single question, as it encompasses cumulative time from previous questions and other activities. These characteristics pose challenges for effective model training. In contrast, 'event_duration' typically contains smaller values than 'elapsed_time', and outlier influence can be mitigated by clipping excessively large values.\n",
    "\n",
    "Given the vast size of the dataset, it's crucial to downsize the dataframe for computations before incorporating it back into the main data. This strategy is necessary to prevent overloading the processing kernel, which could otherwise lead to system crashes or other issues.\n"
   ]
  },
  {
   "cell_type": "code",
   "execution_count": null,
   "id": "028a8636",
   "metadata": {},
   "outputs": [],
   "source": [
    "dataset_df2 = pd.read_pickle(\"elapsed_time.pkl\")\n",
    "\n",
    "'''dataset_df2 = pd.read_csv(\n",
    "    'train.csv',\n",
    "    usecols = ['elapsed_time', 'session_id', 'level_group'])\n",
    "\n",
    "dataset_df2=dataset_df2.groupby('session_id', as_index=False).apply(lambda x: x.sort_values('elapsed_time', ascending=True))\n",
    "dataset_df2.reset_index(drop=True)\n",
    "\n",
    "\n",
    "\n",
    "\n",
    "upper = 3.6e6 # 1 hour. events longer than 1 hour are outliers.\n",
    "\n",
    "gps = []\n",
    "\n",
    "# event_duration for every session of every group\n",
    "# this code is slow but I think it is necessary because it simulates the test condition\n",
    "for _, session in dataset_df2.groupby('session_id'):\n",
    "    for _, gp in session.groupby('level_group'):\n",
    "        event_duration = gp.elapsed_time.diff().fillna(0).clip(0, upper)\n",
    "        gp['event_duration'] = event_duration\n",
    "        gps.append(gp)\n",
    "        \n",
    "dataset_df2 = pd.concat(gps)\n",
    "dataset_df2.to_pickle('elapsed_time.pkl')'''"
   ]
  },
  {
   "cell_type": "markdown",
   "id": "3b4c70fc",
   "metadata": {
    "id": "W0ex_Jkln2PC",
    "papermill": {
     "duration": 0.02313,
     "end_time": "2023-05-11T12:04:42.317355",
     "exception": false,
     "start_time": "2023-05-11T12:04:42.294225",
     "status": "completed"
    },
    "tags": []
   },
   "source": [
    "# Split Data into Training and Testing"
   ]
  },
  {
   "cell_type": "code",
   "execution_count": 16,
   "id": "53fc8d12",
   "metadata": {
    "execution": {
     "iopub.execute_input": "2023-05-11T12:04:42.367478Z",
     "iopub.status.busy": "2023-05-11T12:04:42.366625Z",
     "iopub.status.idle": "2023-05-11T12:04:42.719107Z",
     "shell.execute_reply": "2023-05-11T12:04:42.717984Z"
    },
    "id": "OZfTcCJfn2PC",
    "papermill": {
     "duration": 0.381456,
     "end_time": "2023-05-11T12:04:42.721964",
     "exception": false,
     "start_time": "2023-05-11T12:04:42.340508",
     "status": "completed"
    },
    "tags": []
   },
   "outputs": [
    {
     "name": "stdout",
     "output_type": "stream",
     "text": [
      "56547 examples in training, 14139 examples in testing.\n"
     ]
    }
   ],
   "source": [
    "def split_dataset(dataset, test_ratio=0.20):\n",
    "    USER_LIST = dataset.index.unique()\n",
    "    split = int(len(USER_LIST) * (1 - 0.20))\n",
    "    return dataset.loc[USER_LIST[:split]], dataset.loc[USER_LIST[split:]]\n",
    "\n",
    "train_x, valid_x = split_dataset(dataset_df)\n",
    "print(\"{} examples in training, {} examples in testing.\".format(\n",
    "    len(train_x), len(valid_x)))"
   ]
  },
  {
   "cell_type": "markdown",
   "id": "ccfa0f8a",
   "metadata": {
    "id": "ZnVfKZfzn2PE",
    "papermill": {
     "duration": 0.022824,
     "end_time": "2023-05-11T12:04:42.768390",
     "exception": false,
     "start_time": "2023-05-11T12:04:42.745566",
     "status": "completed"
    },
    "tags": []
   },
   "source": [
    "# Model Selection\n",
    "This project has previously tested the models below, GradientBoostedTreesModel was the most accurate. The full writeup is in the results section.\n",
    "\n",
    "- RandomForestModel\n",
    "- **GradientBoostedTreesModel**\n",
    "- CartModel\n",
    "- DistributedGradientBoostedTreesModel\n",
    "\n"
   ]
  },
  {
   "cell_type": "markdown",
   "id": "adb3c5ed",
   "metadata": {
    "id": "cPJ0fJtsWEKI",
    "papermill": {
     "duration": 0.022892,
     "end_time": "2023-05-11T12:04:42.874312",
     "exception": false,
     "start_time": "2023-05-11T12:04:42.851420",
     "status": "completed"
    },
    "tags": []
   },
   "source": [
    "A Gradient Boosted Decision Tree is a set of shallow decision trees trained sequentially. Each tree is trained to predict and then \"correct\" for the errors of the previously trained trees."
   ]
  },
  {
   "cell_type": "markdown",
   "id": "8eb60b73",
   "metadata": {
    "id": "TbIeh3-En2PE",
    "papermill": {
     "duration": 0.022731,
     "end_time": "2023-05-11T12:04:42.920377",
     "exception": false,
     "start_time": "2023-05-11T12:04:42.897646",
     "status": "completed"
    },
    "tags": []
   },
   "source": [
    "# About the Gradient Boosted Trees Model\n",
    "\n",
    "### Decision Tree\n",
    "A decision tree is a type of supervised learning algorithm that is mostly used in classification problems, although it works for regression tasks as well. It works for both categorical and continuous input and output variables. The name comes from the algorithm's approach to solving problems, which resembles a tree-like model of decisions.\n",
    "\n",
    "A decision tree consists of:\n",
    "\n",
    "- **Nodes:** Test for the value of a certain attribute.\n",
    "- **Edges/branches:** Correspond to the outcome of a test and connect to the next node or leaf.\n",
    "- **Leaf nodes:** Terminal nodes that predict the outcome (target variable).\n",
    "\n",
    "The decision rules are generally in conjunction with each other and the main challenge for a decision tree lies in complex datasets, where these conjunctions of decision rules could lead to overfitting.\n",
    "\n",
    "Decision Trees use Entropy, Information Gain, Gini Index, etc., to decide which feature is best for classification and the ordering of features in the tree. \n",
    "\n",
    "This algorithm is widely used because of its simplicity and the fact that it can be visually interpreted. It also requires relatively little data preprocessing, for example, data scaling.\n",
    "\n",
    "### Gradient Boosted Tree Model\n",
    "A Gradient Boosted Trees Model is a type of machine learning algorithm that falls under the category of ensemble learning methods. It's used for both regression and classification problems.\n",
    "\n",
    "In essence, it constructs a model by iteratively adding a set of simple base models (also known as weak learners), typically decision trees, to create a strong overall model. The term 'gradient boosting' originates from the procedure of applying gradient descent algorithm to minimize the loss function, and 'boosting' refers to the ensemble learning technique of combining several weak learners to form a strong learner.\n",
    "\n",
    "The process begins with a simple model that makes certain errors (or residuals) in predictions. Then, another decision tree is built to correct the previous errors. This process is repeated, each time building new trees that aim to correct the errors made by the sum of all the previous trees. The final model is the weighted sum of all the decision trees, where the weights are assigned depending on the effectiveness of each tree at reducing the error.\n",
    "\n",
    "This approach helps in handling various types of data and can prevent overfitting to a certain extent. However, it can be computationally intensive and may require careful tuning of parameters."
   ]
  },
  {
   "cell_type": "markdown",
   "id": "968f3d0f",
   "metadata": {
    "id": "UdibIrM-XP5-",
    "papermill": {
     "duration": 0.022934,
     "end_time": "2023-05-11T12:04:42.966750",
     "exception": false,
     "start_time": "2023-05-11T12:04:42.943816",
     "status": "completed"
    },
    "tags": []
   },
   "source": [
    "# Training"
   ]
  },
  {
   "cell_type": "markdown",
   "id": "2201ea02",
   "metadata": {
    "id": "BtkKMa7sXd65",
    "papermill": {
     "duration": 0.022828,
     "end_time": "2023-05-11T12:04:43.012781",
     "exception": false,
     "start_time": "2023-05-11T12:04:42.989953",
     "status": "completed"
    },
    "tags": []
   },
   "source": [
    "A distinct model will be trained for each question to estimate whether a user will answer it correctly. With a total of 18 questions present in the dataset, this process will lead to the training of 18 individual models.\n",
    "\n",
    "For the training loop, some data structures will be required to hold the trained models, as well as the predictions on the validation set and evaluation scores for the models.\n",
    "\n",
    "These necessary structures will be generated using the corresponding code:"
   ]
  },
  {
   "cell_type": "code",
   "execution_count": 18,
   "id": "f1ee2eb2",
   "metadata": {
    "execution": {
     "iopub.execute_input": "2023-05-11T12:04:43.061821Z",
     "iopub.status.busy": "2023-05-11T12:04:43.060965Z",
     "iopub.status.idle": "2023-05-11T12:04:43.069487Z",
     "shell.execute_reply": "2023-05-11T12:04:43.068120Z"
    },
    "id": "7Brds67Wn2PD",
    "papermill": {
     "duration": 0.036354,
     "end_time": "2023-05-11T12:04:43.072446",
     "exception": false,
     "start_time": "2023-05-11T12:04:43.036092",
     "status": "completed"
    },
    "tags": []
   },
   "outputs": [],
   "source": [
    "# Fetch the unique list of user sessions.\n",
    "VALID_USER_LIST = valid_x.index.unique()\n",
    "\n",
    "# Create a dataframe for storing the predictions of each question for all users\n",
    "\n",
    "prediction_df = pd.DataFrame(data=np.zeros((len(VALID_USER_LIST),18)), index=VALID_USER_LIST)\n",
    "\n",
    "# Create an empty dictionary to store a model created for each question.\n",
    "models = {}\n",
    "\n",
    "# Create an empty dictionary to store the evaluation score for each question.\n",
    "evaluation_dict ={}"
   ]
  },
  {
   "cell_type": "markdown",
   "id": "22eb7c26",
   "metadata": {
    "id": "p1GoOMRHn2PF",
    "papermill": {
     "duration": 0.023052,
     "end_time": "2023-05-11T12:04:43.119251",
     "exception": false,
     "start_time": "2023-05-11T12:04:43.096199",
     "status": "completed"
    },
    "tags": []
   },
   "source": [
    "Before proceeding with data training, it is crucial to comprehend the association between level_groups and questions.\n",
    "\n",
    "In the context of this game, the first quiz checkpoint (questions 1 to 3) appears after the completion of levels 0 to 4. Therefore, for training questions 1 to 3, data from the level_group 0-4 will be employed. Following the same logic, data from the level_group 5-12 will be used to train questions 4 to 13, while data from the level_group 13-22 will be utilized for training questions 14 to 18.\n",
    "\n",
    "A model will be trained for each question, with the resulting trained model being stored in the models dict."
   ]
  },
  {
   "cell_type": "code",
   "execution_count": 19,
   "id": "3bfb65c2",
   "metadata": {
    "execution": {
     "iopub.execute_input": "2023-05-11T12:04:43.169951Z",
     "iopub.status.busy": "2023-05-11T12:04:43.169057Z",
     "iopub.status.idle": "2023-05-11T12:07:33.565527Z",
     "shell.execute_reply": "2023-05-11T12:07:33.563968Z"
    },
    "id": "VBO3VCOJn2PF",
    "papermill": {
     "duration": 170.426411,
     "end_time": "2023-05-11T12:07:33.568914",
     "exception": false,
     "start_time": "2023-05-11T12:04:43.142503",
     "status": "completed"
    },
    "scrolled": true,
    "tags": []
   },
   "outputs": [
    {
     "name": "stdout",
     "output_type": "stream",
     "text": [
      "### q_no 1 grp 0-4\n"
     ]
    },
    {
     "name": "stderr",
     "output_type": "stream",
     "text": [
      "/tmp/ipykernel_23630/3242602895.py:23: SettingWithCopyWarning: \n",
      "A value is trying to be set on a copy of a slice from a DataFrame.\n",
      "Try using .loc[row_indexer,col_indexer] = value instead\n",
      "\n",
      "See the caveats in the documentation: https://pandas.pydata.org/pandas-docs/stable/user_guide/indexing.html#returning-a-view-versus-a-copy\n",
      "  train_df[\"correct\"] = train_labels[\"correct\"]\n",
      "/tmp/ipykernel_23630/3242602895.py:24: SettingWithCopyWarning: \n",
      "A value is trying to be set on a copy of a slice from a DataFrame.\n",
      "Try using .loc[row_indexer,col_indexer] = value instead\n",
      "\n",
      "See the caveats in the documentation: https://pandas.pydata.org/pandas-docs/stable/user_guide/indexing.html#returning-a-view-versus-a-copy\n",
      "  valid_df[\"correct\"] = valid_labels[\"correct\"]\n",
      "2023-06-22 14:16:39.975715: I tensorflow/compiler/xla/stream_executor/cuda/cuda_gpu_executor.cc:996] successful NUMA node read from SysFS had negative value (-1), but there must be at least one NUMA node, so returning NUMA node zero. See more at https://github.com/torvalds/linux/blob/v6.0/Documentation/ABI/testing/sysfs-bus-pci#L344-L355\n",
      "2023-06-22 14:16:39.977436: W tensorflow/core/common_runtime/gpu/gpu_device.cc:1956] Cannot dlopen some GPU libraries. Please make sure the missing libraries mentioned above are installed properly if you would like to use GPU. Follow the guide at https://www.tensorflow.org/install/gpu for how to download and setup the required libraries for your platform.\n",
      "Skipping registering GPU devices...\n",
      "[WARNING 23-06-22 14:16:40.0309 PDT gradient_boosted_trees.cc:1797] \"goss_alpha\" set but \"sampling_method\" not equal to \"GOSS\".\n",
      "[WARNING 23-06-22 14:16:40.0310 PDT gradient_boosted_trees.cc:1808] \"goss_beta\" set but \"sampling_method\" not equal to \"GOSS\".\n",
      "[WARNING 23-06-22 14:16:40.0310 PDT gradient_boosted_trees.cc:1822] \"selective_gradient_boosting_ratio\" set but \"sampling_method\" not equal to \"SELGB\".\n",
      "2023-06-22 14:16:40.047170: I tensorflow/core/common_runtime/executor.cc:1197] [/device:CPU:0] (DEBUG INFO) Executor start aborting (this does not indicate an error and you can ignore this message): INVALID_ARGUMENT: You must feed a value for placeholder tensor 'Placeholder/_6' with dtype double and shape [18849]\n",
      "\t [[{{node Placeholder/_6}}]]\n",
      "[INFO 23-06-22 14:16:44.2235 PDT kernel.cc:1242] Loading model from path /tmp/tmp8a8_3bk9/model/ with prefix a933269c898f4fe3\n",
      "[INFO 23-06-22 14:16:44.2264 PDT abstract_model.cc:1311] Engine \"GradientBoostedTreesQuickScorerExtended\" built\n",
      "[INFO 23-06-22 14:16:44.2265 PDT kernel.cc:1074] Use fast generic engine\n",
      "2023-06-22 14:16:44.235310: I tensorflow/core/common_runtime/executor.cc:1197] [/device:CPU:0] (DEBUG INFO) Executor start aborting (this does not indicate an error and you can ignore this message): INVALID_ARGUMENT: You must feed a value for placeholder tensor 'Placeholder/_7' with dtype double and shape [18849]\n",
      "\t [[{{node Placeholder/_7}}]]\n"
     ]
    },
    {
     "name": "stdout",
     "output_type": "stream",
     "text": [
      "WARNING:tensorflow:AutoGraph could not transform <function simple_ml_inference_op_with_handle at 0x7ff44caa1360> and will run it as-is.\n",
      "Please report this to the TensorFlow team. When filing the bug, set the verbosity to 10 (on Linux, `export AUTOGRAPH_VERBOSITY=10`) and attach the full output.\n",
      "Cause: could not get source code\n",
      "To silence this warning, decorate the function with @tf.autograph.experimental.do_not_convert\n",
      "WARNING: AutoGraph could not transform <function simple_ml_inference_op_with_handle at 0x7ff44caa1360> and will run it as-is.\n",
      "Please report this to the TensorFlow team. When filing the bug, set the verbosity to 10 (on Linux, `export AUTOGRAPH_VERBOSITY=10`) and attach the full output.\n",
      "Cause: could not get source code\n",
      "To silence this warning, decorate the function with @tf.autograph.experimental.do_not_convert\n"
     ]
    },
    {
     "name": "stderr",
     "output_type": "stream",
     "text": [
      "2023-06-22 14:16:45.155656: I tensorflow/core/common_runtime/executor.cc:1197] [/device:CPU:0] (DEBUG INFO) Executor start aborting (this does not indicate an error and you can ignore this message): INVALID_ARGUMENT: You must feed a value for placeholder tensor 'Placeholder/_20' with dtype int64 and shape [4713]\n",
      "\t [[{{node Placeholder/_20}}]]\n"
     ]
    },
    {
     "name": "stdout",
     "output_type": "stream",
     "text": [
      "5/5 [==============================] - 0s 9ms/step - loss: 0.0000e+00 - accuracy: 0.7286\n",
      "5/5 [==============================] - 0s 8ms/step\n",
      "### q_no 2 grp 0-4\n"
     ]
    },
    {
     "name": "stderr",
     "output_type": "stream",
     "text": [
      "/tmp/ipykernel_23630/3242602895.py:23: SettingWithCopyWarning: \n",
      "A value is trying to be set on a copy of a slice from a DataFrame.\n",
      "Try using .loc[row_indexer,col_indexer] = value instead\n",
      "\n",
      "See the caveats in the documentation: https://pandas.pydata.org/pandas-docs/stable/user_guide/indexing.html#returning-a-view-versus-a-copy\n",
      "  train_df[\"correct\"] = train_labels[\"correct\"]\n",
      "/tmp/ipykernel_23630/3242602895.py:24: SettingWithCopyWarning: \n",
      "A value is trying to be set on a copy of a slice from a DataFrame.\n",
      "Try using .loc[row_indexer,col_indexer] = value instead\n",
      "\n",
      "See the caveats in the documentation: https://pandas.pydata.org/pandas-docs/stable/user_guide/indexing.html#returning-a-view-versus-a-copy\n",
      "  valid_df[\"correct\"] = valid_labels[\"correct\"]\n",
      "[WARNING 23-06-22 14:16:45.5566 PDT gradient_boosted_trees.cc:1797] \"goss_alpha\" set but \"sampling_method\" not equal to \"GOSS\".\n",
      "[WARNING 23-06-22 14:16:45.5566 PDT gradient_boosted_trees.cc:1808] \"goss_beta\" set but \"sampling_method\" not equal to \"GOSS\".\n",
      "[WARNING 23-06-22 14:16:45.5566 PDT gradient_boosted_trees.cc:1822] \"selective_gradient_boosting_ratio\" set but \"sampling_method\" not equal to \"SELGB\".\n",
      "2023-06-22 14:16:45.562080: I tensorflow/core/common_runtime/executor.cc:1197] [/device:CPU:0] (DEBUG INFO) Executor start aborting (this does not indicate an error and you can ignore this message): INVALID_ARGUMENT: You must feed a value for placeholder tensor 'Placeholder/_2' with dtype int64 and shape [18849]\n",
      "\t [[{{node Placeholder/_2}}]]\n",
      "[INFO 23-06-22 14:16:46.6546 PDT kernel.cc:1242] Loading model from path /tmp/tmpqohtcs0i/model/ with prefix 5b36c2a3e59243b4\n",
      "[INFO 23-06-22 14:16:46.6555 PDT kernel.cc:1074] Use fast generic engine\n",
      "2023-06-22 14:16:46.658892: I tensorflow/core/common_runtime/executor.cc:1197] [/device:CPU:0] (DEBUG INFO) Executor start aborting (this does not indicate an error and you can ignore this message): INVALID_ARGUMENT: You must feed a value for placeholder tensor 'Placeholder/_9' with dtype double and shape [18849]\n",
      "\t [[{{node Placeholder/_9}}]]\n",
      "2023-06-22 14:16:46.786362: I tensorflow/core/common_runtime/executor.cc:1197] [/device:CPU:0] (DEBUG INFO) Executor start aborting (this does not indicate an error and you can ignore this message): INVALID_ARGUMENT: You must feed a value for placeholder tensor 'Placeholder/_8' with dtype int64 and shape [4713]\n",
      "\t [[{{node Placeholder/_8}}]]\n"
     ]
    },
    {
     "name": "stdout",
     "output_type": "stream",
     "text": [
      "5/5 [==============================] - 0s 8ms/step - loss: 0.0000e+00 - accuracy: 0.9743\n",
      "5/5 [==============================] - 0s 8ms/step\n",
      "### q_no 3 grp 0-4\n"
     ]
    },
    {
     "name": "stderr",
     "output_type": "stream",
     "text": [
      "/tmp/ipykernel_23630/3242602895.py:23: SettingWithCopyWarning: \n",
      "A value is trying to be set on a copy of a slice from a DataFrame.\n",
      "Try using .loc[row_indexer,col_indexer] = value instead\n",
      "\n",
      "See the caveats in the documentation: https://pandas.pydata.org/pandas-docs/stable/user_guide/indexing.html#returning-a-view-versus-a-copy\n",
      "  train_df[\"correct\"] = train_labels[\"correct\"]\n",
      "/tmp/ipykernel_23630/3242602895.py:24: SettingWithCopyWarning: \n",
      "A value is trying to be set on a copy of a slice from a DataFrame.\n",
      "Try using .loc[row_indexer,col_indexer] = value instead\n",
      "\n",
      "See the caveats in the documentation: https://pandas.pydata.org/pandas-docs/stable/user_guide/indexing.html#returning-a-view-versus-a-copy\n",
      "  valid_df[\"correct\"] = valid_labels[\"correct\"]\n",
      "[WARNING 23-06-22 14:16:47.0392 PDT gradient_boosted_trees.cc:1797] \"goss_alpha\" set but \"sampling_method\" not equal to \"GOSS\".\n",
      "[WARNING 23-06-22 14:16:47.0392 PDT gradient_boosted_trees.cc:1808] \"goss_beta\" set but \"sampling_method\" not equal to \"GOSS\".\n",
      "[WARNING 23-06-22 14:16:47.0392 PDT gradient_boosted_trees.cc:1822] \"selective_gradient_boosting_ratio\" set but \"sampling_method\" not equal to \"SELGB\".\n",
      "2023-06-22 14:16:47.044734: I tensorflow/core/common_runtime/executor.cc:1197] [/device:CPU:0] (DEBUG INFO) Executor start aborting (this does not indicate an error and you can ignore this message): INVALID_ARGUMENT: You must feed a value for placeholder tensor 'Placeholder/_8' with dtype int64 and shape [18849]\n",
      "\t [[{{node Placeholder/_8}}]]\n",
      "[INFO 23-06-22 14:16:48.0684 PDT kernel.cc:1242] Loading model from path /tmp/tmpi90kjo8t/model/ with prefix 3f88fd70a2214c10\n",
      "[INFO 23-06-22 14:16:48.0693 PDT kernel.cc:1074] Use fast generic engine\n",
      "2023-06-22 14:16:48.072671: I tensorflow/core/common_runtime/executor.cc:1197] [/device:CPU:0] (DEBUG INFO) Executor start aborting (this does not indicate an error and you can ignore this message): INVALID_ARGUMENT: You must feed a value for placeholder tensor 'Placeholder/_17' with dtype double and shape [18849]\n",
      "\t [[{{node Placeholder/_17}}]]\n",
      "2023-06-22 14:16:48.195486: I tensorflow/core/common_runtime/executor.cc:1197] [/device:CPU:0] (DEBUG INFO) Executor start aborting (this does not indicate an error and you can ignore this message): INVALID_ARGUMENT: You must feed a value for placeholder tensor 'Placeholder/_14' with dtype double and shape [4713]\n",
      "\t [[{{node Placeholder/_14}}]]\n"
     ]
    },
    {
     "name": "stdout",
     "output_type": "stream",
     "text": [
      "5/5 [==============================] - 0s 9ms/step - loss: 0.0000e+00 - accuracy: 0.9351\n",
      "WARNING:tensorflow:5 out of the last 13 calls to <function InferenceCoreModel.make_predict_function.<locals>.predict_function_trained at 0x7ff446378af0> triggered tf.function retracing. Tracing is expensive and the excessive number of tracings could be due to (1) creating @tf.function repeatedly in a loop, (2) passing tensors with different shapes, (3) passing Python objects instead of tensors. For (1), please define your @tf.function outside of the loop. For (2), @tf.function has reduce_retracing=True option that can avoid unnecessary retracing. For (3), please refer to https://www.tensorflow.org/guide/function#controlling_retracing and https://www.tensorflow.org/api_docs/python/tf/function for  more details.\n",
      "5/5 [==============================] - 0s 8ms/step\n",
      "### q_no 4 grp 5-12\n"
     ]
    },
    {
     "name": "stderr",
     "output_type": "stream",
     "text": [
      "/tmp/ipykernel_23630/3242602895.py:23: SettingWithCopyWarning: \n",
      "A value is trying to be set on a copy of a slice from a DataFrame.\n",
      "Try using .loc[row_indexer,col_indexer] = value instead\n",
      "\n",
      "See the caveats in the documentation: https://pandas.pydata.org/pandas-docs/stable/user_guide/indexing.html#returning-a-view-versus-a-copy\n",
      "  train_df[\"correct\"] = train_labels[\"correct\"]\n",
      "/tmp/ipykernel_23630/3242602895.py:24: SettingWithCopyWarning: \n",
      "A value is trying to be set on a copy of a slice from a DataFrame.\n",
      "Try using .loc[row_indexer,col_indexer] = value instead\n",
      "\n",
      "See the caveats in the documentation: https://pandas.pydata.org/pandas-docs/stable/user_guide/indexing.html#returning-a-view-versus-a-copy\n",
      "  valid_df[\"correct\"] = valid_labels[\"correct\"]\n",
      "[WARNING 23-06-22 14:16:48.4521 PDT gradient_boosted_trees.cc:1797] \"goss_alpha\" set but \"sampling_method\" not equal to \"GOSS\".\n",
      "[WARNING 23-06-22 14:16:48.4521 PDT gradient_boosted_trees.cc:1808] \"goss_beta\" set but \"sampling_method\" not equal to \"GOSS\".\n",
      "[WARNING 23-06-22 14:16:48.4522 PDT gradient_boosted_trees.cc:1822] \"selective_gradient_boosting_ratio\" set but \"sampling_method\" not equal to \"SELGB\".\n",
      "2023-06-22 14:16:48.458062: I tensorflow/core/common_runtime/executor.cc:1197] [/device:CPU:0] (DEBUG INFO) Executor start aborting (this does not indicate an error and you can ignore this message): INVALID_ARGUMENT: You must feed a value for placeholder tensor 'Placeholder/_8' with dtype int64 and shape [18849]\n",
      "\t [[{{node Placeholder/_8}}]]\n",
      "[INFO 23-06-22 14:16:50.7231 PDT kernel.cc:1242] Loading model from path /tmp/tmppzt8gp6v/model/ with prefix 2e8fb683003748a5\n",
      "[INFO 23-06-22 14:16:50.7271 PDT kernel.cc:1074] Use fast generic engine\n",
      "2023-06-22 14:16:50.730812: I tensorflow/core/common_runtime/executor.cc:1197] [/device:CPU:0] (DEBUG INFO) Executor start aborting (this does not indicate an error and you can ignore this message): INVALID_ARGUMENT: You must feed a value for placeholder tensor 'Placeholder/_6' with dtype double and shape [18849]\n",
      "\t [[{{node Placeholder/_6}}]]\n",
      "2023-06-22 14:16:50.859343: I tensorflow/core/common_runtime/executor.cc:1197] [/device:CPU:0] (DEBUG INFO) Executor start aborting (this does not indicate an error and you can ignore this message): INVALID_ARGUMENT: You must feed a value for placeholder tensor 'Placeholder/_9' with dtype double and shape [4713]\n",
      "\t [[{{node Placeholder/_9}}]]\n"
     ]
    },
    {
     "name": "stdout",
     "output_type": "stream",
     "text": [
      "5/5 [==============================] - 0s 14ms/step - loss: 0.0000e+00 - accuracy: 0.7957\n",
      "WARNING:tensorflow:5 out of the last 13 calls to <function InferenceCoreModel.make_predict_function.<locals>.predict_function_trained at 0x7ff446b54c10> triggered tf.function retracing. Tracing is expensive and the excessive number of tracings could be due to (1) creating @tf.function repeatedly in a loop, (2) passing tensors with different shapes, (3) passing Python objects instead of tensors. For (1), please define your @tf.function outside of the loop. For (2), @tf.function has reduce_retracing=True option that can avoid unnecessary retracing. For (3), please refer to https://www.tensorflow.org/guide/function#controlling_retracing and https://www.tensorflow.org/api_docs/python/tf/function for  more details.\n",
      "5/5 [==============================] - 0s 7ms/step\n",
      "### q_no 5 grp 5-12\n"
     ]
    },
    {
     "name": "stderr",
     "output_type": "stream",
     "text": [
      "/tmp/ipykernel_23630/3242602895.py:23: SettingWithCopyWarning: \n",
      "A value is trying to be set on a copy of a slice from a DataFrame.\n",
      "Try using .loc[row_indexer,col_indexer] = value instead\n",
      "\n",
      "See the caveats in the documentation: https://pandas.pydata.org/pandas-docs/stable/user_guide/indexing.html#returning-a-view-versus-a-copy\n",
      "  train_df[\"correct\"] = train_labels[\"correct\"]\n",
      "/tmp/ipykernel_23630/3242602895.py:24: SettingWithCopyWarning: \n",
      "A value is trying to be set on a copy of a slice from a DataFrame.\n",
      "Try using .loc[row_indexer,col_indexer] = value instead\n",
      "\n",
      "See the caveats in the documentation: https://pandas.pydata.org/pandas-docs/stable/user_guide/indexing.html#returning-a-view-versus-a-copy\n",
      "  valid_df[\"correct\"] = valid_labels[\"correct\"]\n",
      "[WARNING 23-06-22 14:16:51.1399 PDT gradient_boosted_trees.cc:1797] \"goss_alpha\" set but \"sampling_method\" not equal to \"GOSS\".\n",
      "[WARNING 23-06-22 14:16:51.1400 PDT gradient_boosted_trees.cc:1808] \"goss_beta\" set but \"sampling_method\" not equal to \"GOSS\".\n",
      "[WARNING 23-06-22 14:16:51.1400 PDT gradient_boosted_trees.cc:1822] \"selective_gradient_boosting_ratio\" set but \"sampling_method\" not equal to \"SELGB\".\n",
      "2023-06-22 14:16:51.145558: I tensorflow/core/common_runtime/executor.cc:1197] [/device:CPU:0] (DEBUG INFO) Executor start aborting (this does not indicate an error and you can ignore this message): INVALID_ARGUMENT: You must feed a value for placeholder tensor 'Placeholder/_18' with dtype float and shape [18849]\n",
      "\t [[{{node Placeholder/_18}}]]\n"
     ]
    },
    {
     "name": "stdout",
     "output_type": "stream",
     "text": [
      "WARNING:tensorflow:5 out of the last 5 calls to <function CoreModel._consumes_training_examples_until_eof at 0x7ff44ca52a70> triggered tf.function retracing. Tracing is expensive and the excessive number of tracings could be due to (1) creating @tf.function repeatedly in a loop, (2) passing tensors with different shapes, (3) passing Python objects instead of tensors. For (1), please define your @tf.function outside of the loop. For (2), @tf.function has reduce_retracing=True option that can avoid unnecessary retracing. For (3), please refer to https://www.tensorflow.org/guide/function#controlling_retracing and https://www.tensorflow.org/api_docs/python/tf/function for  more details.\n",
      "WARNING:tensorflow:5 out of the last 9 calls to <function InferenceCoreModel.yggdrasil_model_path_tensor at 0x7ff446b541f0> triggered tf.function retracing. Tracing is expensive and the excessive number of tracings could be due to (1) creating @tf.function repeatedly in a loop, (2) passing tensors with different shapes, (3) passing Python objects instead of tensors. For (1), please define your @tf.function outside of the loop. For (2), @tf.function has reduce_retracing=True option that can avoid unnecessary retracing. For (3), please refer to https://www.tensorflow.org/guide/function#controlling_retracing and https://www.tensorflow.org/api_docs/python/tf/function for  more details.\n"
     ]
    },
    {
     "name": "stderr",
     "output_type": "stream",
     "text": [
      "[INFO 23-06-22 14:16:52.5378 PDT kernel.cc:1242] Loading model from path /tmp/tmp7_fs7oti/model/ with prefix b616af3ac2fd442e\n",
      "[INFO 23-06-22 14:16:52.5399 PDT kernel.cc:1074] Use fast generic engine\n",
      "2023-06-22 14:16:52.543754: I tensorflow/core/common_runtime/executor.cc:1197] [/device:CPU:0] (DEBUG INFO) Executor start aborting (this does not indicate an error and you can ignore this message): INVALID_ARGUMENT: You must feed a value for placeholder tensor 'Placeholder/_8' with dtype int64 and shape [18849]\n",
      "\t [[{{node Placeholder/_8}}]]\n",
      "2023-06-22 14:16:52.675031: I tensorflow/core/common_runtime/executor.cc:1197] [/device:CPU:0] (DEBUG INFO) Executor start aborting (this does not indicate an error and you can ignore this message): INVALID_ARGUMENT: You must feed a value for placeholder tensor 'Placeholder/_9' with dtype double and shape [4713]\n",
      "\t [[{{node Placeholder/_9}}]]\n"
     ]
    },
    {
     "name": "stdout",
     "output_type": "stream",
     "text": [
      "5/5 [==============================] - 0s 9ms/step - loss: 0.0000e+00 - accuracy: 0.6319\n",
      "5/5 [==============================] - 0s 9ms/step\n",
      "### q_no 6 grp 5-12\n"
     ]
    },
    {
     "name": "stderr",
     "output_type": "stream",
     "text": [
      "/tmp/ipykernel_23630/3242602895.py:23: SettingWithCopyWarning: \n",
      "A value is trying to be set on a copy of a slice from a DataFrame.\n",
      "Try using .loc[row_indexer,col_indexer] = value instead\n",
      "\n",
      "See the caveats in the documentation: https://pandas.pydata.org/pandas-docs/stable/user_guide/indexing.html#returning-a-view-versus-a-copy\n",
      "  train_df[\"correct\"] = train_labels[\"correct\"]\n",
      "/tmp/ipykernel_23630/3242602895.py:24: SettingWithCopyWarning: \n",
      "A value is trying to be set on a copy of a slice from a DataFrame.\n",
      "Try using .loc[row_indexer,col_indexer] = value instead\n",
      "\n",
      "See the caveats in the documentation: https://pandas.pydata.org/pandas-docs/stable/user_guide/indexing.html#returning-a-view-versus-a-copy\n",
      "  valid_df[\"correct\"] = valid_labels[\"correct\"]\n",
      "[WARNING 23-06-22 14:16:52.9469 PDT gradient_boosted_trees.cc:1797] \"goss_alpha\" set but \"sampling_method\" not equal to \"GOSS\".\n",
      "[WARNING 23-06-22 14:16:52.9470 PDT gradient_boosted_trees.cc:1808] \"goss_beta\" set but \"sampling_method\" not equal to \"GOSS\".\n",
      "[WARNING 23-06-22 14:16:52.9470 PDT gradient_boosted_trees.cc:1822] \"selective_gradient_boosting_ratio\" set but \"sampling_method\" not equal to \"SELGB\".\n",
      "2023-06-22 14:16:52.952571: I tensorflow/core/common_runtime/executor.cc:1197] [/device:CPU:0] (DEBUG INFO) Executor start aborting (this does not indicate an error and you can ignore this message): INVALID_ARGUMENT: You must feed a value for placeholder tensor 'Placeholder/_3' with dtype int64 and shape [18849]\n",
      "\t [[{{node Placeholder/_3}}]]\n"
     ]
    },
    {
     "name": "stdout",
     "output_type": "stream",
     "text": [
      "WARNING:tensorflow:6 out of the last 6 calls to <function CoreModel._consumes_training_examples_until_eof at 0x7ff44ca52a70> triggered tf.function retracing. Tracing is expensive and the excessive number of tracings could be due to (1) creating @tf.function repeatedly in a loop, (2) passing tensors with different shapes, (3) passing Python objects instead of tensors. For (1), please define your @tf.function outside of the loop. For (2), @tf.function has reduce_retracing=True option that can avoid unnecessary retracing. For (3), please refer to https://www.tensorflow.org/guide/function#controlling_retracing and https://www.tensorflow.org/api_docs/python/tf/function for  more details.\n",
      "WARNING:tensorflow:6 out of the last 11 calls to <function InferenceCoreModel.yggdrasil_model_path_tensor at 0x7ff44637a290> triggered tf.function retracing. Tracing is expensive and the excessive number of tracings could be due to (1) creating @tf.function repeatedly in a loop, (2) passing tensors with different shapes, (3) passing Python objects instead of tensors. For (1), please define your @tf.function outside of the loop. For (2), @tf.function has reduce_retracing=True option that can avoid unnecessary retracing. For (3), please refer to https://www.tensorflow.org/guide/function#controlling_retracing and https://www.tensorflow.org/api_docs/python/tf/function for  more details.\n"
     ]
    },
    {
     "name": "stderr",
     "output_type": "stream",
     "text": [
      "[INFO 23-06-22 14:16:54.5580 PDT kernel.cc:1242] Loading model from path /tmp/tmpw6llu3l1/model/ with prefix 9106cc3c1f0c4ca9\n",
      "[INFO 23-06-22 14:16:54.5606 PDT abstract_model.cc:1311] Engine \"GradientBoostedTreesQuickScorerExtended\" built\n",
      "[INFO 23-06-22 14:16:54.5606 PDT kernel.cc:1074] Use fast generic engine\n",
      "2023-06-22 14:16:54.564568: I tensorflow/core/common_runtime/executor.cc:1197] [/device:CPU:0] (DEBUG INFO) Executor start aborting (this does not indicate an error and you can ignore this message): INVALID_ARGUMENT: You must feed a value for placeholder tensor 'Placeholder/_19' with dtype double and shape [18849]\n",
      "\t [[{{node Placeholder/_19}}]]\n",
      "2023-06-22 14:16:54.691623: I tensorflow/core/common_runtime/executor.cc:1197] [/device:CPU:0] (DEBUG INFO) Executor start aborting (this does not indicate an error and you can ignore this message): INVALID_ARGUMENT: You must feed a value for placeholder tensor 'Placeholder/_8' with dtype int64 and shape [4713]\n",
      "\t [[{{node Placeholder/_8}}]]\n"
     ]
    },
    {
     "name": "stdout",
     "output_type": "stream",
     "text": [
      "5/5 [==============================] - 0s 7ms/step - loss: 0.0000e+00 - accuracy: 0.7885\n",
      "5/5 [==============================] - 0s 7ms/step\n",
      "### q_no 7 grp 5-12\n"
     ]
    },
    {
     "name": "stderr",
     "output_type": "stream",
     "text": [
      "/tmp/ipykernel_23630/3242602895.py:23: SettingWithCopyWarning: \n",
      "A value is trying to be set on a copy of a slice from a DataFrame.\n",
      "Try using .loc[row_indexer,col_indexer] = value instead\n",
      "\n",
      "See the caveats in the documentation: https://pandas.pydata.org/pandas-docs/stable/user_guide/indexing.html#returning-a-view-versus-a-copy\n",
      "  train_df[\"correct\"] = train_labels[\"correct\"]\n",
      "/tmp/ipykernel_23630/3242602895.py:24: SettingWithCopyWarning: \n",
      "A value is trying to be set on a copy of a slice from a DataFrame.\n",
      "Try using .loc[row_indexer,col_indexer] = value instead\n",
      "\n",
      "See the caveats in the documentation: https://pandas.pydata.org/pandas-docs/stable/user_guide/indexing.html#returning-a-view-versus-a-copy\n",
      "  valid_df[\"correct\"] = valid_labels[\"correct\"]\n",
      "[WARNING 23-06-22 14:16:54.9364 PDT gradient_boosted_trees.cc:1797] \"goss_alpha\" set but \"sampling_method\" not equal to \"GOSS\".\n",
      "[WARNING 23-06-22 14:16:54.9364 PDT gradient_boosted_trees.cc:1808] \"goss_beta\" set but \"sampling_method\" not equal to \"GOSS\".\n",
      "[WARNING 23-06-22 14:16:54.9365 PDT gradient_boosted_trees.cc:1822] \"selective_gradient_boosting_ratio\" set but \"sampling_method\" not equal to \"SELGB\".\n",
      "2023-06-22 14:16:54.942068: I tensorflow/core/common_runtime/executor.cc:1197] [/device:CPU:0] (DEBUG INFO) Executor start aborting (this does not indicate an error and you can ignore this message): INVALID_ARGUMENT: You must feed a value for placeholder tensor 'Placeholder/_12' with dtype double and shape [18849]\n",
      "\t [[{{node Placeholder/_12}}]]\n",
      "[INFO 23-06-22 14:16:56.2098 PDT kernel.cc:1242] Loading model from path /tmp/tmpns7gan9w/model/ with prefix 10c1156d2db34583\n",
      "[INFO 23-06-22 14:16:56.2114 PDT kernel.cc:1074] Use fast generic engine\n",
      "2023-06-22 14:16:56.215521: I tensorflow/core/common_runtime/executor.cc:1197] [/device:CPU:0] (DEBUG INFO) Executor start aborting (this does not indicate an error and you can ignore this message): INVALID_ARGUMENT: You must feed a value for placeholder tensor 'Placeholder/_9' with dtype double and shape [18849]\n",
      "\t [[{{node Placeholder/_9}}]]\n",
      "2023-06-22 14:16:56.353945: I tensorflow/core/common_runtime/executor.cc:1197] [/device:CPU:0] (DEBUG INFO) Executor start aborting (this does not indicate an error and you can ignore this message): INVALID_ARGUMENT: You must feed a value for placeholder tensor 'Placeholder/_0' with dtype double and shape [4713]\n",
      "\t [[{{node Placeholder/_0}}]]\n"
     ]
    },
    {
     "name": "stdout",
     "output_type": "stream",
     "text": [
      "5/5 [==============================] - 0s 7ms/step - loss: 0.0000e+00 - accuracy: 0.7456\n",
      "5/5 [==============================] - 0s 7ms/step\n",
      "### q_no 8 grp 5-12\n"
     ]
    },
    {
     "name": "stderr",
     "output_type": "stream",
     "text": [
      "/tmp/ipykernel_23630/3242602895.py:23: SettingWithCopyWarning: \n",
      "A value is trying to be set on a copy of a slice from a DataFrame.\n",
      "Try using .loc[row_indexer,col_indexer] = value instead\n",
      "\n",
      "See the caveats in the documentation: https://pandas.pydata.org/pandas-docs/stable/user_guide/indexing.html#returning-a-view-versus-a-copy\n",
      "  train_df[\"correct\"] = train_labels[\"correct\"]\n",
      "/tmp/ipykernel_23630/3242602895.py:24: SettingWithCopyWarning: \n",
      "A value is trying to be set on a copy of a slice from a DataFrame.\n",
      "Try using .loc[row_indexer,col_indexer] = value instead\n",
      "\n",
      "See the caveats in the documentation: https://pandas.pydata.org/pandas-docs/stable/user_guide/indexing.html#returning-a-view-versus-a-copy\n",
      "  valid_df[\"correct\"] = valid_labels[\"correct\"]\n",
      "[WARNING 23-06-22 14:16:56.6096 PDT gradient_boosted_trees.cc:1797] \"goss_alpha\" set but \"sampling_method\" not equal to \"GOSS\".\n",
      "[WARNING 23-06-22 14:16:56.6096 PDT gradient_boosted_trees.cc:1808] \"goss_beta\" set but \"sampling_method\" not equal to \"GOSS\".\n",
      "[WARNING 23-06-22 14:16:56.6096 PDT gradient_boosted_trees.cc:1822] \"selective_gradient_boosting_ratio\" set but \"sampling_method\" not equal to \"SELGB\".\n",
      "2023-06-22 14:16:56.615120: I tensorflow/core/common_runtime/executor.cc:1197] [/device:CPU:0] (DEBUG INFO) Executor start aborting (this does not indicate an error and you can ignore this message): INVALID_ARGUMENT: You must feed a value for placeholder tensor 'Placeholder/_6' with dtype double and shape [18849]\n",
      "\t [[{{node Placeholder/_6}}]]\n",
      "[INFO 23-06-22 14:16:57.6872 PDT kernel.cc:1242] Loading model from path /tmp/tmpscevmmm6/model/ with prefix 8d4dfbb5d6c0437a\n",
      "[INFO 23-06-22 14:16:57.6882 PDT kernel.cc:1074] Use fast generic engine\n",
      "2023-06-22 14:16:57.691542: I tensorflow/core/common_runtime/executor.cc:1197] [/device:CPU:0] (DEBUG INFO) Executor start aborting (this does not indicate an error and you can ignore this message): INVALID_ARGUMENT: You must feed a value for placeholder tensor 'Placeholder/_7' with dtype double and shape [18849]\n",
      "\t [[{{node Placeholder/_7}}]]\n",
      "2023-06-22 14:16:57.819489: I tensorflow/core/common_runtime/executor.cc:1197] [/device:CPU:0] (DEBUG INFO) Executor start aborting (this does not indicate an error and you can ignore this message): INVALID_ARGUMENT: You must feed a value for placeholder tensor 'Placeholder/_4' with dtype float and shape [4713]\n",
      "\t [[{{node Placeholder/_4}}]]\n"
     ]
    },
    {
     "name": "stdout",
     "output_type": "stream",
     "text": [
      "5/5 [==============================] - 0s 14ms/step - loss: 0.0000e+00 - accuracy: 0.6355\n",
      "5/5 [==============================] - 0s 11ms/step\n",
      "### q_no 9 grp 5-12\n"
     ]
    },
    {
     "name": "stderr",
     "output_type": "stream",
     "text": [
      "/tmp/ipykernel_23630/3242602895.py:23: SettingWithCopyWarning: \n",
      "A value is trying to be set on a copy of a slice from a DataFrame.\n",
      "Try using .loc[row_indexer,col_indexer] = value instead\n",
      "\n",
      "See the caveats in the documentation: https://pandas.pydata.org/pandas-docs/stable/user_guide/indexing.html#returning-a-view-versus-a-copy\n",
      "  train_df[\"correct\"] = train_labels[\"correct\"]\n",
      "/tmp/ipykernel_23630/3242602895.py:24: SettingWithCopyWarning: \n",
      "A value is trying to be set on a copy of a slice from a DataFrame.\n",
      "Try using .loc[row_indexer,col_indexer] = value instead\n",
      "\n",
      "See the caveats in the documentation: https://pandas.pydata.org/pandas-docs/stable/user_guide/indexing.html#returning-a-view-versus-a-copy\n",
      "  valid_df[\"correct\"] = valid_labels[\"correct\"]\n",
      "[WARNING 23-06-22 14:16:58.1350 PDT gradient_boosted_trees.cc:1797] \"goss_alpha\" set but \"sampling_method\" not equal to \"GOSS\".\n",
      "[WARNING 23-06-22 14:16:58.1350 PDT gradient_boosted_trees.cc:1808] \"goss_beta\" set but \"sampling_method\" not equal to \"GOSS\".\n",
      "[WARNING 23-06-22 14:16:58.1351 PDT gradient_boosted_trees.cc:1822] \"selective_gradient_boosting_ratio\" set but \"sampling_method\" not equal to \"SELGB\".\n",
      "2023-06-22 14:16:58.141446: I tensorflow/core/common_runtime/executor.cc:1197] [/device:CPU:0] (DEBUG INFO) Executor start aborting (this does not indicate an error and you can ignore this message): INVALID_ARGUMENT: You must feed a value for placeholder tensor 'Placeholder/_8' with dtype int64 and shape [18849]\n",
      "\t [[{{node Placeholder/_8}}]]\n",
      "[INFO 23-06-22 14:16:59.4924 PDT kernel.cc:1242] Loading model from path /tmp/tmpaekjfql2/model/ with prefix 14bc76974bfa42c7\n",
      "[INFO 23-06-22 14:16:59.4944 PDT kernel.cc:1074] Use fast generic engine\n",
      "2023-06-22 14:16:59.498195: I tensorflow/core/common_runtime/executor.cc:1197] [/device:CPU:0] (DEBUG INFO) Executor start aborting (this does not indicate an error and you can ignore this message): INVALID_ARGUMENT: You must feed a value for placeholder tensor 'Placeholder/_2' with dtype int64 and shape [18849]\n",
      "\t [[{{node Placeholder/_2}}]]\n",
      "2023-06-22 14:16:59.630349: I tensorflow/core/common_runtime/executor.cc:1197] [/device:CPU:0] (DEBUG INFO) Executor start aborting (this does not indicate an error and you can ignore this message): INVALID_ARGUMENT: You must feed a value for placeholder tensor 'Placeholder/_9' with dtype double and shape [4713]\n",
      "\t [[{{node Placeholder/_9}}]]\n"
     ]
    },
    {
     "name": "stdout",
     "output_type": "stream",
     "text": [
      "5/5 [==============================] - 0s 8ms/step - loss: 0.0000e+00 - accuracy: 0.7632\n",
      "5/5 [==============================] - 0s 7ms/step\n",
      "### q_no 10 grp 5-12\n"
     ]
    },
    {
     "name": "stderr",
     "output_type": "stream",
     "text": [
      "/tmp/ipykernel_23630/3242602895.py:23: SettingWithCopyWarning: \n",
      "A value is trying to be set on a copy of a slice from a DataFrame.\n",
      "Try using .loc[row_indexer,col_indexer] = value instead\n",
      "\n",
      "See the caveats in the documentation: https://pandas.pydata.org/pandas-docs/stable/user_guide/indexing.html#returning-a-view-versus-a-copy\n",
      "  train_df[\"correct\"] = train_labels[\"correct\"]\n",
      "/tmp/ipykernel_23630/3242602895.py:24: SettingWithCopyWarning: \n",
      "A value is trying to be set on a copy of a slice from a DataFrame.\n",
      "Try using .loc[row_indexer,col_indexer] = value instead\n",
      "\n",
      "See the caveats in the documentation: https://pandas.pydata.org/pandas-docs/stable/user_guide/indexing.html#returning-a-view-versus-a-copy\n",
      "  valid_df[\"correct\"] = valid_labels[\"correct\"]\n",
      "[WARNING 23-06-22 14:16:59.9019 PDT gradient_boosted_trees.cc:1797] \"goss_alpha\" set but \"sampling_method\" not equal to \"GOSS\".\n",
      "[WARNING 23-06-22 14:16:59.9019 PDT gradient_boosted_trees.cc:1808] \"goss_beta\" set but \"sampling_method\" not equal to \"GOSS\".\n",
      "[WARNING 23-06-22 14:16:59.9019 PDT gradient_boosted_trees.cc:1822] \"selective_gradient_boosting_ratio\" set but \"sampling_method\" not equal to \"SELGB\".\n",
      "2023-06-22 14:16:59.907468: I tensorflow/core/common_runtime/executor.cc:1197] [/device:CPU:0] (DEBUG INFO) Executor start aborting (this does not indicate an error and you can ignore this message): INVALID_ARGUMENT: You must feed a value for placeholder tensor 'Placeholder/_9' with dtype double and shape [18849]\n",
      "\t [[{{node Placeholder/_9}}]]\n",
      "[INFO 23-06-22 14:17:01.5962 PDT kernel.cc:1242] Loading model from path /tmp/tmphrbth7zi/model/ with prefix 4fd6aa52ded149fe\n",
      "[INFO 23-06-22 14:17:01.5990 PDT kernel.cc:1074] Use fast generic engine\n",
      "2023-06-22 14:17:01.602690: I tensorflow/core/common_runtime/executor.cc:1197] [/device:CPU:0] (DEBUG INFO) Executor start aborting (this does not indicate an error and you can ignore this message): INVALID_ARGUMENT: You must feed a value for placeholder tensor 'Placeholder/_21' with dtype int64 and shape [18849]\n",
      "\t [[{{node Placeholder/_21}}]]\n",
      "2023-06-22 14:17:01.725945: I tensorflow/core/common_runtime/executor.cc:1197] [/device:CPU:0] (DEBUG INFO) Executor start aborting (this does not indicate an error and you can ignore this message): INVALID_ARGUMENT: You must feed a value for placeholder tensor 'Placeholder/_16' with dtype float and shape [4713]\n",
      "\t [[{{node Placeholder/_16}}]]\n"
     ]
    },
    {
     "name": "stdout",
     "output_type": "stream",
     "text": [
      "5/5 [==============================] - 0s 8ms/step - loss: 0.0000e+00 - accuracy: 0.6109\n",
      "5/5 [==============================] - 0s 8ms/step\n",
      "### q_no 11 grp 5-12\n"
     ]
    },
    {
     "name": "stderr",
     "output_type": "stream",
     "text": [
      "/tmp/ipykernel_23630/3242602895.py:23: SettingWithCopyWarning: \n",
      "A value is trying to be set on a copy of a slice from a DataFrame.\n",
      "Try using .loc[row_indexer,col_indexer] = value instead\n",
      "\n",
      "See the caveats in the documentation: https://pandas.pydata.org/pandas-docs/stable/user_guide/indexing.html#returning-a-view-versus-a-copy\n",
      "  train_df[\"correct\"] = train_labels[\"correct\"]\n",
      "/tmp/ipykernel_23630/3242602895.py:24: SettingWithCopyWarning: \n",
      "A value is trying to be set on a copy of a slice from a DataFrame.\n",
      "Try using .loc[row_indexer,col_indexer] = value instead\n",
      "\n",
      "See the caveats in the documentation: https://pandas.pydata.org/pandas-docs/stable/user_guide/indexing.html#returning-a-view-versus-a-copy\n",
      "  valid_df[\"correct\"] = valid_labels[\"correct\"]\n",
      "[WARNING 23-06-22 14:17:01.9678 PDT gradient_boosted_trees.cc:1797] \"goss_alpha\" set but \"sampling_method\" not equal to \"GOSS\".\n",
      "[WARNING 23-06-22 14:17:01.9678 PDT gradient_boosted_trees.cc:1808] \"goss_beta\" set but \"sampling_method\" not equal to \"GOSS\".\n",
      "[WARNING 23-06-22 14:17:01.9678 PDT gradient_boosted_trees.cc:1822] \"selective_gradient_boosting_ratio\" set but \"sampling_method\" not equal to \"SELGB\".\n",
      "2023-06-22 14:17:01.973454: I tensorflow/core/common_runtime/executor.cc:1197] [/device:CPU:0] (DEBUG INFO) Executor start aborting (this does not indicate an error and you can ignore this message): INVALID_ARGUMENT: You must feed a value for placeholder tensor 'Placeholder/_6' with dtype double and shape [18849]\n",
      "\t [[{{node Placeholder/_6}}]]\n",
      "[INFO 23-06-22 14:17:03.3995 PDT kernel.cc:1242] Loading model from path /tmp/tmp1vscpfua/model/ with prefix 85356f2fba164ff3\n",
      "[INFO 23-06-22 14:17:03.4018 PDT kernel.cc:1074] Use fast generic engine\n",
      "2023-06-22 14:17:03.405569: I tensorflow/core/common_runtime/executor.cc:1197] [/device:CPU:0] (DEBUG INFO) Executor start aborting (this does not indicate an error and you can ignore this message): INVALID_ARGUMENT: You must feed a value for placeholder tensor 'Placeholder/_10' with dtype double and shape [18849]\n",
      "\t [[{{node Placeholder/_10}}]]\n",
      "2023-06-22 14:17:03.534507: I tensorflow/core/common_runtime/executor.cc:1197] [/device:CPU:0] (DEBUG INFO) Executor start aborting (this does not indicate an error and you can ignore this message): INVALID_ARGUMENT: You must feed a value for placeholder tensor 'Placeholder/_19' with dtype double and shape [4713]\n",
      "\t [[{{node Placeholder/_19}}]]\n"
     ]
    },
    {
     "name": "stdout",
     "output_type": "stream",
     "text": [
      "5/5 [==============================] - 0s 7ms/step - loss: 0.0000e+00 - accuracy: 0.6522\n",
      "5/5 [==============================] - 0s 8ms/step\n",
      "### q_no 12 grp 5-12\n"
     ]
    },
    {
     "name": "stderr",
     "output_type": "stream",
     "text": [
      "/tmp/ipykernel_23630/3242602895.py:23: SettingWithCopyWarning: \n",
      "A value is trying to be set on a copy of a slice from a DataFrame.\n",
      "Try using .loc[row_indexer,col_indexer] = value instead\n",
      "\n",
      "See the caveats in the documentation: https://pandas.pydata.org/pandas-docs/stable/user_guide/indexing.html#returning-a-view-versus-a-copy\n",
      "  train_df[\"correct\"] = train_labels[\"correct\"]\n",
      "/tmp/ipykernel_23630/3242602895.py:24: SettingWithCopyWarning: \n",
      "A value is trying to be set on a copy of a slice from a DataFrame.\n",
      "Try using .loc[row_indexer,col_indexer] = value instead\n",
      "\n",
      "See the caveats in the documentation: https://pandas.pydata.org/pandas-docs/stable/user_guide/indexing.html#returning-a-view-versus-a-copy\n",
      "  valid_df[\"correct\"] = valid_labels[\"correct\"]\n",
      "[WARNING 23-06-22 14:17:03.7871 PDT gradient_boosted_trees.cc:1797] \"goss_alpha\" set but \"sampling_method\" not equal to \"GOSS\".\n",
      "[WARNING 23-06-22 14:17:03.7871 PDT gradient_boosted_trees.cc:1808] \"goss_beta\" set but \"sampling_method\" not equal to \"GOSS\".\n",
      "[WARNING 23-06-22 14:17:03.7871 PDT gradient_boosted_trees.cc:1822] \"selective_gradient_boosting_ratio\" set but \"sampling_method\" not equal to \"SELGB\".\n",
      "2023-06-22 14:17:03.792648: I tensorflow/core/common_runtime/executor.cc:1197] [/device:CPU:0] (DEBUG INFO) Executor start aborting (this does not indicate an error and you can ignore this message): INVALID_ARGUMENT: You must feed a value for placeholder tensor 'Placeholder/_14' with dtype double and shape [18849]\n",
      "\t [[{{node Placeholder/_14}}]]\n",
      "[INFO 23-06-22 14:17:04.8869 PDT kernel.cc:1242] Loading model from path /tmp/tmpjnxhorut/model/ with prefix 565366b8aa844fd3\n",
      "[INFO 23-06-22 14:17:04.8880 PDT abstract_model.cc:1311] Engine \"GradientBoostedTreesQuickScorerExtended\" built\n",
      "[INFO 23-06-22 14:17:04.8880 PDT kernel.cc:1074] Use fast generic engine\n",
      "2023-06-22 14:17:04.891430: I tensorflow/core/common_runtime/executor.cc:1197] [/device:CPU:0] (DEBUG INFO) Executor start aborting (this does not indicate an error and you can ignore this message): INVALID_ARGUMENT: You must feed a value for placeholder tensor 'Placeholder/_6' with dtype double and shape [18849]\n",
      "\t [[{{node Placeholder/_6}}]]\n",
      "2023-06-22 14:17:05.018425: I tensorflow/core/common_runtime/executor.cc:1197] [/device:CPU:0] (DEBUG INFO) Executor start aborting (this does not indicate an error and you can ignore this message): INVALID_ARGUMENT: You must feed a value for placeholder tensor 'Placeholder/_20' with dtype int64 and shape [4713]\n",
      "\t [[{{node Placeholder/_20}}]]\n"
     ]
    },
    {
     "name": "stdout",
     "output_type": "stream",
     "text": [
      "5/5 [==============================] - 0s 8ms/step - loss: 0.0000e+00 - accuracy: 0.8695\n",
      "5/5 [==============================] - 0s 8ms/step\n",
      "### q_no 13 grp 5-12\n"
     ]
    },
    {
     "name": "stderr",
     "output_type": "stream",
     "text": [
      "/tmp/ipykernel_23630/3242602895.py:23: SettingWithCopyWarning: \n",
      "A value is trying to be set on a copy of a slice from a DataFrame.\n",
      "Try using .loc[row_indexer,col_indexer] = value instead\n",
      "\n",
      "See the caveats in the documentation: https://pandas.pydata.org/pandas-docs/stable/user_guide/indexing.html#returning-a-view-versus-a-copy\n",
      "  train_df[\"correct\"] = train_labels[\"correct\"]\n",
      "/tmp/ipykernel_23630/3242602895.py:24: SettingWithCopyWarning: \n",
      "A value is trying to be set on a copy of a slice from a DataFrame.\n",
      "Try using .loc[row_indexer,col_indexer] = value instead\n",
      "\n",
      "See the caveats in the documentation: https://pandas.pydata.org/pandas-docs/stable/user_guide/indexing.html#returning-a-view-versus-a-copy\n",
      "  valid_df[\"correct\"] = valid_labels[\"correct\"]\n",
      "[WARNING 23-06-22 14:17:05.2605 PDT gradient_boosted_trees.cc:1797] \"goss_alpha\" set but \"sampling_method\" not equal to \"GOSS\".\n",
      "[WARNING 23-06-22 14:17:05.2605 PDT gradient_boosted_trees.cc:1808] \"goss_beta\" set but \"sampling_method\" not equal to \"GOSS\".\n",
      "[WARNING 23-06-22 14:17:05.2605 PDT gradient_boosted_trees.cc:1822] \"selective_gradient_boosting_ratio\" set but \"sampling_method\" not equal to \"SELGB\".\n",
      "2023-06-22 14:17:05.266228: I tensorflow/core/common_runtime/executor.cc:1197] [/device:CPU:0] (DEBUG INFO) Executor start aborting (this does not indicate an error and you can ignore this message): INVALID_ARGUMENT: You must feed a value for placeholder tensor 'Placeholder/_19' with dtype double and shape [18849]\n",
      "\t [[{{node Placeholder/_19}}]]\n",
      "[INFO 23-06-22 14:17:06.9105 PDT kernel.cc:1242] Loading model from path /tmp/tmp5nlr8591/model/ with prefix a2e991a0d2ff406b\n",
      "[INFO 23-06-22 14:17:06.9132 PDT kernel.cc:1074] Use fast generic engine\n",
      "2023-06-22 14:17:06.916785: I tensorflow/core/common_runtime/executor.cc:1197] [/device:CPU:0] (DEBUG INFO) Executor start aborting (this does not indicate an error and you can ignore this message): INVALID_ARGUMENT: You must feed a value for placeholder tensor 'Placeholder/_2' with dtype int64 and shape [18849]\n",
      "\t [[{{node Placeholder/_2}}]]\n",
      "2023-06-22 14:17:07.039019: I tensorflow/core/common_runtime/executor.cc:1197] [/device:CPU:0] (DEBUG INFO) Executor start aborting (this does not indicate an error and you can ignore this message): INVALID_ARGUMENT: You must feed a value for placeholder tensor 'Placeholder/_21' with dtype int64 and shape [4713]\n",
      "\t [[{{node Placeholder/_21}}]]\n"
     ]
    },
    {
     "name": "stdout",
     "output_type": "stream",
     "text": [
      "5/5 [==============================] - 0s 9ms/step - loss: 0.0000e+00 - accuracy: 0.7218\n",
      "5/5 [==============================] - 0s 8ms/step\n",
      "### q_no 14 grp 13-22\n"
     ]
    },
    {
     "name": "stderr",
     "output_type": "stream",
     "text": [
      "/tmp/ipykernel_23630/3242602895.py:23: SettingWithCopyWarning: \n",
      "A value is trying to be set on a copy of a slice from a DataFrame.\n",
      "Try using .loc[row_indexer,col_indexer] = value instead\n",
      "\n",
      "See the caveats in the documentation: https://pandas.pydata.org/pandas-docs/stable/user_guide/indexing.html#returning-a-view-versus-a-copy\n",
      "  train_df[\"correct\"] = train_labels[\"correct\"]\n",
      "/tmp/ipykernel_23630/3242602895.py:24: SettingWithCopyWarning: \n",
      "A value is trying to be set on a copy of a slice from a DataFrame.\n",
      "Try using .loc[row_indexer,col_indexer] = value instead\n",
      "\n",
      "See the caveats in the documentation: https://pandas.pydata.org/pandas-docs/stable/user_guide/indexing.html#returning-a-view-versus-a-copy\n",
      "  valid_df[\"correct\"] = valid_labels[\"correct\"]\n",
      "[WARNING 23-06-22 14:17:07.2963 PDT gradient_boosted_trees.cc:1797] \"goss_alpha\" set but \"sampling_method\" not equal to \"GOSS\".\n",
      "[WARNING 23-06-22 14:17:07.2964 PDT gradient_boosted_trees.cc:1808] \"goss_beta\" set but \"sampling_method\" not equal to \"GOSS\".\n",
      "[WARNING 23-06-22 14:17:07.2964 PDT gradient_boosted_trees.cc:1822] \"selective_gradient_boosting_ratio\" set but \"sampling_method\" not equal to \"SELGB\".\n",
      "2023-06-22 14:17:07.301893: I tensorflow/core/common_runtime/executor.cc:1197] [/device:CPU:0] (DEBUG INFO) Executor start aborting (this does not indicate an error and you can ignore this message): INVALID_ARGUMENT: You must feed a value for placeholder tensor 'Placeholder/_21' with dtype int64 and shape [18849]\n",
      "\t [[{{node Placeholder/_21}}]]\n",
      "[INFO 23-06-22 14:17:08.7403 PDT kernel.cc:1242] Loading model from path /tmp/tmpajjqp_l0/model/ with prefix 811a392fb2774573\n",
      "[INFO 23-06-22 14:17:08.7427 PDT kernel.cc:1074] Use fast generic engine\n",
      "2023-06-22 14:17:08.746664: I tensorflow/core/common_runtime/executor.cc:1197] [/device:CPU:0] (DEBUG INFO) Executor start aborting (this does not indicate an error and you can ignore this message): INVALID_ARGUMENT: You must feed a value for placeholder tensor 'Placeholder/_4' with dtype float and shape [18849]\n",
      "\t [[{{node Placeholder/_4}}]]\n",
      "2023-06-22 14:17:08.879149: I tensorflow/core/common_runtime/executor.cc:1197] [/device:CPU:0] (DEBUG INFO) Executor start aborting (this does not indicate an error and you can ignore this message): INVALID_ARGUMENT: You must feed a value for placeholder tensor 'Placeholder/_1' with dtype double and shape [4713]\n",
      "\t [[{{node Placeholder/_1}}]]\n"
     ]
    },
    {
     "name": "stdout",
     "output_type": "stream",
     "text": [
      "5/5 [==============================] - 0s 8ms/step - loss: 0.0000e+00 - accuracy: 0.7337\n",
      "5/5 [==============================] - 0s 8ms/step\n",
      "### q_no 15 grp 13-22\n"
     ]
    },
    {
     "name": "stderr",
     "output_type": "stream",
     "text": [
      "/tmp/ipykernel_23630/3242602895.py:23: SettingWithCopyWarning: \n",
      "A value is trying to be set on a copy of a slice from a DataFrame.\n",
      "Try using .loc[row_indexer,col_indexer] = value instead\n",
      "\n",
      "See the caveats in the documentation: https://pandas.pydata.org/pandas-docs/stable/user_guide/indexing.html#returning-a-view-versus-a-copy\n",
      "  train_df[\"correct\"] = train_labels[\"correct\"]\n",
      "/tmp/ipykernel_23630/3242602895.py:24: SettingWithCopyWarning: \n",
      "A value is trying to be set on a copy of a slice from a DataFrame.\n",
      "Try using .loc[row_indexer,col_indexer] = value instead\n",
      "\n",
      "See the caveats in the documentation: https://pandas.pydata.org/pandas-docs/stable/user_guide/indexing.html#returning-a-view-versus-a-copy\n",
      "  valid_df[\"correct\"] = valid_labels[\"correct\"]\n",
      "[WARNING 23-06-22 14:17:09.1254 PDT gradient_boosted_trees.cc:1797] \"goss_alpha\" set but \"sampling_method\" not equal to \"GOSS\".\n",
      "[WARNING 23-06-22 14:17:09.1254 PDT gradient_boosted_trees.cc:1808] \"goss_beta\" set but \"sampling_method\" not equal to \"GOSS\".\n",
      "[WARNING 23-06-22 14:17:09.1254 PDT gradient_boosted_trees.cc:1822] \"selective_gradient_boosting_ratio\" set but \"sampling_method\" not equal to \"SELGB\".\n",
      "2023-06-22 14:17:09.131124: I tensorflow/core/common_runtime/executor.cc:1197] [/device:CPU:0] (DEBUG INFO) Executor start aborting (this does not indicate an error and you can ignore this message): INVALID_ARGUMENT: You must feed a value for placeholder tensor 'Placeholder/_5' with dtype double and shape [18849]\n",
      "\t [[{{node Placeholder/_5}}]]\n",
      "[INFO 23-06-22 14:17:10.6888 PDT kernel.cc:1242] Loading model from path /tmp/tmpzcmq8e9w/model/ with prefix 1c971cebd9084fbe\n",
      "[INFO 23-06-22 14:17:10.6915 PDT kernel.cc:1074] Use fast generic engine\n",
      "2023-06-22 14:17:10.695550: I tensorflow/core/common_runtime/executor.cc:1197] [/device:CPU:0] (DEBUG INFO) Executor start aborting (this does not indicate an error and you can ignore this message): INVALID_ARGUMENT: You must feed a value for placeholder tensor 'Placeholder/_10' with dtype double and shape [18849]\n",
      "\t [[{{node Placeholder/_10}}]]\n",
      "2023-06-22 14:17:10.819326: I tensorflow/core/common_runtime/executor.cc:1197] [/device:CPU:0] (DEBUG INFO) Executor start aborting (this does not indicate an error and you can ignore this message): INVALID_ARGUMENT: You must feed a value for placeholder tensor 'Placeholder/_6' with dtype double and shape [4713]\n",
      "\t [[{{node Placeholder/_6}}]]\n"
     ]
    },
    {
     "name": "stdout",
     "output_type": "stream",
     "text": [
      "5/5 [==============================] - 0s 8ms/step - loss: 0.0000e+00 - accuracy: 0.6166\n",
      "5/5 [==============================] - 0s 8ms/step\n",
      "### q_no 16 grp 13-22\n"
     ]
    },
    {
     "name": "stderr",
     "output_type": "stream",
     "text": [
      "/tmp/ipykernel_23630/3242602895.py:23: SettingWithCopyWarning: \n",
      "A value is trying to be set on a copy of a slice from a DataFrame.\n",
      "Try using .loc[row_indexer,col_indexer] = value instead\n",
      "\n",
      "See the caveats in the documentation: https://pandas.pydata.org/pandas-docs/stable/user_guide/indexing.html#returning-a-view-versus-a-copy\n",
      "  train_df[\"correct\"] = train_labels[\"correct\"]\n",
      "/tmp/ipykernel_23630/3242602895.py:24: SettingWithCopyWarning: \n",
      "A value is trying to be set on a copy of a slice from a DataFrame.\n",
      "Try using .loc[row_indexer,col_indexer] = value instead\n",
      "\n",
      "See the caveats in the documentation: https://pandas.pydata.org/pandas-docs/stable/user_guide/indexing.html#returning-a-view-versus-a-copy\n",
      "  valid_df[\"correct\"] = valid_labels[\"correct\"]\n",
      "[WARNING 23-06-22 14:17:11.0664 PDT gradient_boosted_trees.cc:1797] \"goss_alpha\" set but \"sampling_method\" not equal to \"GOSS\".\n",
      "[WARNING 23-06-22 14:17:11.0664 PDT gradient_boosted_trees.cc:1808] \"goss_beta\" set but \"sampling_method\" not equal to \"GOSS\".\n",
      "[WARNING 23-06-22 14:17:11.0664 PDT gradient_boosted_trees.cc:1822] \"selective_gradient_boosting_ratio\" set but \"sampling_method\" not equal to \"SELGB\".\n",
      "2023-06-22 14:17:11.071981: I tensorflow/core/common_runtime/executor.cc:1197] [/device:CPU:0] (DEBUG INFO) Executor start aborting (this does not indicate an error and you can ignore this message): INVALID_ARGUMENT: You must feed a value for placeholder tensor 'Placeholder/_6' with dtype double and shape [18849]\n",
      "\t [[{{node Placeholder/_6}}]]\n",
      "[INFO 23-06-22 14:17:12.1347 PDT kernel.cc:1242] Loading model from path /tmp/tmpr4lhqqv0/model/ with prefix b3e4b0e6e2d74cf0\n",
      "[INFO 23-06-22 14:17:12.1356 PDT kernel.cc:1074] Use fast generic engine\n",
      "2023-06-22 14:17:12.138878: I tensorflow/core/common_runtime/executor.cc:1197] [/device:CPU:0] (DEBUG INFO) Executor start aborting (this does not indicate an error and you can ignore this message): INVALID_ARGUMENT: You must feed a value for placeholder tensor 'Placeholder/_5' with dtype double and shape [18849]\n",
      "\t [[{{node Placeholder/_5}}]]\n",
      "2023-06-22 14:17:12.263822: I tensorflow/core/common_runtime/executor.cc:1197] [/device:CPU:0] (DEBUG INFO) Executor start aborting (this does not indicate an error and you can ignore this message): INVALID_ARGUMENT: You must feed a value for placeholder tensor 'Placeholder/_4' with dtype float and shape [4713]\n",
      "\t [[{{node Placeholder/_4}}]]\n"
     ]
    },
    {
     "name": "stdout",
     "output_type": "stream",
     "text": [
      "5/5 [==============================] - 0s 14ms/step - loss: 0.0000e+00 - accuracy: 0.7486\n",
      "5/5 [==============================] - 0s 7ms/step\n",
      "### q_no 17 grp 13-22\n"
     ]
    },
    {
     "name": "stderr",
     "output_type": "stream",
     "text": [
      "/tmp/ipykernel_23630/3242602895.py:23: SettingWithCopyWarning: \n",
      "A value is trying to be set on a copy of a slice from a DataFrame.\n",
      "Try using .loc[row_indexer,col_indexer] = value instead\n",
      "\n",
      "See the caveats in the documentation: https://pandas.pydata.org/pandas-docs/stable/user_guide/indexing.html#returning-a-view-versus-a-copy\n",
      "  train_df[\"correct\"] = train_labels[\"correct\"]\n",
      "/tmp/ipykernel_23630/3242602895.py:24: SettingWithCopyWarning: \n",
      "A value is trying to be set on a copy of a slice from a DataFrame.\n",
      "Try using .loc[row_indexer,col_indexer] = value instead\n",
      "\n",
      "See the caveats in the documentation: https://pandas.pydata.org/pandas-docs/stable/user_guide/indexing.html#returning-a-view-versus-a-copy\n",
      "  valid_df[\"correct\"] = valid_labels[\"correct\"]\n",
      "[WARNING 23-06-22 14:17:12.5317 PDT gradient_boosted_trees.cc:1797] \"goss_alpha\" set but \"sampling_method\" not equal to \"GOSS\".\n",
      "[WARNING 23-06-22 14:17:12.5317 PDT gradient_boosted_trees.cc:1808] \"goss_beta\" set but \"sampling_method\" not equal to \"GOSS\".\n",
      "[WARNING 23-06-22 14:17:12.5317 PDT gradient_boosted_trees.cc:1822] \"selective_gradient_boosting_ratio\" set but \"sampling_method\" not equal to \"SELGB\".\n",
      "2023-06-22 14:17:12.537244: I tensorflow/core/common_runtime/executor.cc:1197] [/device:CPU:0] (DEBUG INFO) Executor start aborting (this does not indicate an error and you can ignore this message): INVALID_ARGUMENT: You must feed a value for placeholder tensor 'Placeholder/_20' with dtype int64 and shape [18849]\n",
      "\t [[{{node Placeholder/_20}}]]\n",
      "[INFO 23-06-22 14:17:13.8084 PDT kernel.cc:1242] Loading model from path /tmp/tmp99mopk1a/model/ with prefix 5b39b09c9eae440c\n",
      "[INFO 23-06-22 14:17:13.8100 PDT kernel.cc:1074] Use fast generic engine\n",
      "2023-06-22 14:17:13.814438: I tensorflow/core/common_runtime/executor.cc:1197] [/device:CPU:0] (DEBUG INFO) Executor start aborting (this does not indicate an error and you can ignore this message): INVALID_ARGUMENT: You must feed a value for placeholder tensor 'Placeholder/_16' with dtype float and shape [18849]\n",
      "\t [[{{node Placeholder/_16}}]]\n"
     ]
    },
    {
     "name": "stdout",
     "output_type": "stream",
     "text": [
      "5/5 [==============================] - 0s 8ms/step - loss: 0.0000e+00 - accuracy: 0.7027\n",
      "5/5 [==============================] - 0s 8ms/step\n"
     ]
    },
    {
     "name": "stderr",
     "output_type": "stream",
     "text": [
      "2023-06-22 14:17:14.108187: I tensorflow/core/common_runtime/executor.cc:1197] [/device:CPU:0] (DEBUG INFO) Executor start aborting (this does not indicate an error and you can ignore this message): INVALID_ARGUMENT: You must feed a value for placeholder tensor 'Placeholder/_9' with dtype double and shape [4713]\n",
      "\t [[{{node Placeholder/_9}}]]\n"
     ]
    },
    {
     "name": "stdout",
     "output_type": "stream",
     "text": [
      "### q_no 18 grp 13-22\n"
     ]
    },
    {
     "name": "stderr",
     "output_type": "stream",
     "text": [
      "/tmp/ipykernel_23630/3242602895.py:23: SettingWithCopyWarning: \n",
      "A value is trying to be set on a copy of a slice from a DataFrame.\n",
      "Try using .loc[row_indexer,col_indexer] = value instead\n",
      "\n",
      "See the caveats in the documentation: https://pandas.pydata.org/pandas-docs/stable/user_guide/indexing.html#returning-a-view-versus-a-copy\n",
      "  train_df[\"correct\"] = train_labels[\"correct\"]\n",
      "/tmp/ipykernel_23630/3242602895.py:24: SettingWithCopyWarning: \n",
      "A value is trying to be set on a copy of a slice from a DataFrame.\n",
      "Try using .loc[row_indexer,col_indexer] = value instead\n",
      "\n",
      "See the caveats in the documentation: https://pandas.pydata.org/pandas-docs/stable/user_guide/indexing.html#returning-a-view-versus-a-copy\n",
      "  valid_df[\"correct\"] = valid_labels[\"correct\"]\n",
      "[WARNING 23-06-22 14:17:14.3654 PDT gradient_boosted_trees.cc:1797] \"goss_alpha\" set but \"sampling_method\" not equal to \"GOSS\".\n",
      "[WARNING 23-06-22 14:17:14.3654 PDT gradient_boosted_trees.cc:1808] \"goss_beta\" set but \"sampling_method\" not equal to \"GOSS\".\n",
      "[WARNING 23-06-22 14:17:14.3654 PDT gradient_boosted_trees.cc:1822] \"selective_gradient_boosting_ratio\" set but \"sampling_method\" not equal to \"SELGB\".\n",
      "2023-06-22 14:17:14.371176: I tensorflow/core/common_runtime/executor.cc:1197] [/device:CPU:0] (DEBUG INFO) Executor start aborting (this does not indicate an error and you can ignore this message): INVALID_ARGUMENT: You must feed a value for placeholder tensor 'Placeholder/_2' with dtype int64 and shape [18849]\n",
      "\t [[{{node Placeholder/_2}}]]\n",
      "[INFO 23-06-22 14:17:18.1290 PDT kernel.cc:1242] Loading model from path /tmp/tmp5kdxkybg/model/ with prefix 8a6daad3d7a04a0d\n",
      "[INFO 23-06-22 14:17:18.1367 PDT abstract_model.cc:1311] Engine \"GradientBoostedTreesQuickScorerExtended\" built\n",
      "[INFO 23-06-22 14:17:18.1367 PDT kernel.cc:1074] Use fast generic engine\n",
      "2023-06-22 14:17:18.140891: I tensorflow/core/common_runtime/executor.cc:1197] [/device:CPU:0] (DEBUG INFO) Executor start aborting (this does not indicate an error and you can ignore this message): INVALID_ARGUMENT: You must feed a value for placeholder tensor 'Placeholder/_9' with dtype double and shape [18849]\n",
      "\t [[{{node Placeholder/_9}}]]\n",
      "2023-06-22 14:17:18.264104: I tensorflow/core/common_runtime/executor.cc:1197] [/device:CPU:0] (DEBUG INFO) Executor start aborting (this does not indicate an error and you can ignore this message): INVALID_ARGUMENT: You must feed a value for placeholder tensor 'Placeholder/_8' with dtype int64 and shape [4713]\n",
      "\t [[{{node Placeholder/_8}}]]\n"
     ]
    },
    {
     "name": "stdout",
     "output_type": "stream",
     "text": [
      "5/5 [==============================] - 0s 8ms/step - loss: 0.0000e+00 - accuracy: 0.9510\n",
      "5/5 [==============================] - 0s 7ms/step\n"
     ]
    }
   ],
   "source": [
    "# Iterate through questions 1 to 18 to train models for each question, evaluate\n",
    "# the trained model and store the predicted values.\n",
    "for q_no in range(1,19):\n",
    "\n",
    "    # Select level group for the question based on the q_no.\n",
    "    if q_no<=3: grp = '0-4'\n",
    "    elif q_no<=13: grp = '5-12'\n",
    "    elif q_no<=22: grp = '13-22'\n",
    "    print(\"### q_no\", q_no, \"grp\", grp)\n",
    "    \n",
    "        \n",
    "    # Filter the rows in the datasets based on the selected level group. \n",
    "    train_df = train_x.loc[train_x.level_group == grp]\n",
    "    train_users = train_df.index.values\n",
    "    valid_df = valid_x.loc[valid_x.level_group == grp]\n",
    "    valid_users = valid_df.index.values\n",
    "\n",
    "    # Select the labels for the related q_no.\n",
    "    train_labels = labels.loc[labels.q==q_no].set_index('session').loc[train_users]\n",
    "    valid_labels = labels.loc[labels.q==q_no].set_index('session').loc[valid_users]\n",
    "\n",
    "    # Add the label to the filtered datasets.\n",
    "    train_df[\"correct\"] = train_labels[\"correct\"]\n",
    "    valid_df[\"correct\"] = valid_labels[\"correct\"]\n",
    "\n",
    "    # There's one more step required before we can train the model. \n",
    "    # We need to convert the datatset from Pandas format (pd.DataFrame)\n",
    "    # into TensorFlow Datasets format (tf.data.Dataset).\n",
    "    # TensorFlow Datasets is a high performance data loading library \n",
    "    # which is helpful when training neural networks with accelerators like GPUs and TPUs.\n",
    "    # We are omitting `level_group`, since it is not needed for training anymore.\n",
    "    train_ds = tfdf.keras.pd_dataframe_to_tf_dataset(train_df.loc[:, train_df.columns != 'level_group'], label=\"correct\")\n",
    "    valid_ds = tfdf.keras.pd_dataframe_to_tf_dataset(valid_df.loc[:, valid_df.columns != 'level_group'], label=\"correct\")\n",
    "\n",
    "    # We will now create the Gradient Boosted Trees Model with default settings. \n",
    "    # By default the model is set to train for a classification task.\n",
    "    gbtm = tfdf.keras.GradientBoostedTreesModel(verbose=0)\n",
    "    gbtm.compile(metrics=[\"accuracy\"])\n",
    "\n",
    "    # Train the model.\n",
    "    gbtm.fit(x=train_ds)\n",
    "\n",
    "    # Store the model\n",
    "    models[f'{grp}_{q_no}'] = gbtm\n",
    "\n",
    "    # Evaluate the trained model on the validation dataset and store the \n",
    "    # evaluation accuracy in the `evaluation_dict`.\n",
    "    inspector = gbtm.make_inspector()\n",
    "    inspector.evaluation()\n",
    "    evaluation = gbtm.evaluate(x=valid_ds,return_dict=True)\n",
    "    evaluation_dict[q_no] = evaluation[\"accuracy\"]         \n",
    "\n",
    "    # Use the trained model to make predictions on the validation dataset and \n",
    "    # store the predicted values in the `prediction_df` dataframe.\n",
    "    predict = gbtm.predict(x=valid_ds)\n",
    "    prediction_df.loc[valid_users, q_no-1] = predict.flatten()     "
   ]
  },
  {
   "cell_type": "code",
   "execution_count": null,
   "id": "9616133a",
   "metadata": {},
   "outputs": [],
   "source": [
    "\n",
    "models = ['RandomForestModel', 'GradientBoostedTreesModel', 'CartModel', 'DistributedGradientBoostedTreesModel']\n",
    "accuracies = [0.6832, 0.7558, 0.71, 0.7132]"
   ]
  },
  {
   "cell_type": "markdown",
   "id": "bb3e2560",
   "metadata": {
    "id": "oOdr1p-Bn2PF",
    "papermill": {
     "duration": 0.036448,
     "end_time": "2023-05-11T12:07:33.641679",
     "exception": false,
     "start_time": "2023-05-11T12:07:33.605231",
     "status": "completed"
    },
    "tags": []
   },
   "source": [
    "# Inspect the Accuracy of the models.\n",
    "\n",
    "Let's see the accuracy of each question's model. \n"
   ]
  },
  {
   "cell_type": "code",
   "execution_count": 20,
   "id": "12fd907c",
   "metadata": {
    "execution": {
     "iopub.execute_input": "2023-05-11T12:07:33.716587Z",
     "iopub.status.busy": "2023-05-11T12:07:33.715291Z",
     "iopub.status.idle": "2023-05-11T12:07:33.722572Z",
     "shell.execute_reply": "2023-05-11T12:07:33.721344Z"
    },
    "id": "qPOfPkm7n2PG",
    "papermill": {
     "duration": 0.047273,
     "end_time": "2023-05-11T12:07:33.724976",
     "exception": false,
     "start_time": "2023-05-11T12:07:33.677703",
     "status": "completed"
    },
    "tags": []
   },
   "outputs": [
    {
     "name": "stdout",
     "output_type": "stream",
     "text": [
      "question 1: accuracy 0.7286\n",
      "question 2: accuracy 0.9743\n",
      "question 3: accuracy 0.9351\n",
      "question 4: accuracy 0.7957\n",
      "question 5: accuracy 0.6319\n",
      "question 6: accuracy 0.7885\n",
      "question 7: accuracy 0.7456\n",
      "question 8: accuracy 0.6355\n",
      "question 9: accuracy 0.7632\n",
      "question 10: accuracy 0.6109\n",
      "question 11: accuracy 0.6522\n",
      "question 12: accuracy 0.8695\n",
      "question 13: accuracy 0.7218\n",
      "question 14: accuracy 0.7337\n",
      "question 15: accuracy 0.6166\n",
      "question 16: accuracy 0.7486\n",
      "question 17: accuracy 0.7027\n",
      "question 18: accuracy 0.9510\n",
      "\n",
      "Average accuracy 0.7558526065614488\n"
     ]
    }
   ],
   "source": [
    "for name, value in evaluation_dict.items():\n",
    "  print(f\"question {name}: accuracy {value:.4f}\")\n",
    "\n",
    "print(\"\\nAverage accuracy\", sum(evaluation_dict.values())/18)"
   ]
  },
  {
   "cell_type": "markdown",
   "id": "61060e9b",
   "metadata": {
    "id": "qtiCtfNCn2PG",
    "papermill": {
     "duration": 0.035532,
     "end_time": "2023-05-11T12:07:33.796023",
     "exception": false,
     "start_time": "2023-05-11T12:07:33.760491",
     "status": "completed"
    },
    "tags": []
   },
   "source": [
    "# Accuracies of different models\n",
    "\n",
    "The writeup will be included in the results section.\n"
   ]
  },
  {
   "cell_type": "code",
   "execution_count": 26,
   "id": "c55028ef",
   "metadata": {},
   "outputs": [],
   "source": [
    "\n",
    "\n",
    "df = pd.DataFrame({\n",
    "    'Model': models,\n",
    "    'Accuracy': accuracies\n",
    "})"
   ]
  },
  {
   "cell_type": "code",
   "execution_count": 28,
   "id": "7b3a2ef2",
   "metadata": {},
   "outputs": [
    {
     "data": {
      "image/png": "[encoded data removed]",
      "text/plain": [
       "<Figure size 720x432 with 1 Axes>"
      ]
     },
     "metadata": {
      "needs_background": "light"
     },
     "output_type": "display_data"
    }
   ],
   "source": [
    "import seaborn as sns\n",
    "import matplotlib.pyplot as plt\n",
    "\n",
    "plt.figure(figsize=(10, 6))\n",
    "sns.barplot(x='Accuracy', y='Model', data=df)\n",
    "plt.title('Average Model Accuracy')\n",
    "plt.show()\n",
    "\n",
    "\n",
    "\n",
    "\n"
   ]
  },
  {
   "cell_type": "markdown",
   "id": "04e89998",
   "metadata": {
    "id": "rnfYz_aGn2PH",
    "papermill": {
     "duration": 0.036764,
     "end_time": "2023-05-11T12:07:34.124184",
     "exception": false,
     "start_time": "2023-05-11T12:07:34.087420",
     "status": "completed"
    },
    "tags": []
   },
   "source": [
    "## Feature Importance"
   ]
  },
  {
   "cell_type": "markdown",
   "id": "bfc2e813",
   "metadata": {},
   "source": [
    "Feature importance in machine learning signifies the impact of input features in predicting the target variable in a model. It aids in interpreting the model, performing feature selection, enhancing model performance, and improving domain understanding. Techniques to estimate feature importance include permutation importance, tree-based models' importance, and coefficients of linear or logistic regression models. Choosing a suitable method is essential, considering the dataset and model in use."
   ]
  },
  {
   "cell_type": "code",
   "execution_count": 23,
   "id": "1cf7ee69",
   "metadata": {
    "execution": {
     "iopub.execute_input": "2023-05-11T12:07:34.207123Z",
     "iopub.status.busy": "2023-05-11T12:07:34.206301Z",
     "iopub.status.idle": "2023-05-11T12:07:34.214355Z",
     "shell.execute_reply": "2023-05-11T12:07:34.213161Z"
    },
    "id": "ZDsxqRrwn2PH",
    "papermill": {
     "duration": 0.055311,
     "end_time": "2023-05-11T12:07:34.216738",
     "exception": false,
     "start_time": "2023-05-11T12:07:34.161427",
     "status": "completed"
    },
    "tags": []
   },
   "outputs": [
    {
     "data": {
      "text/plain": [
       "[(\"room_fqid_nunique\" (1; #16), 9.0),\n",
       " (\"level\" (1; #7), 5.0),\n",
       " (\"name_nunique\" (1; #9), 5.0),\n",
       " (\"text_fqid_nunique\" (1; #21), 5.0),\n",
       " (\"hover_duration_std\" (1; #6), 4.0),\n",
       " (\"page\" (1; #10), 4.0),\n",
       " (\"screen_coor_x_std\" (1; #18), 4.0),\n",
       " (\"elapsed_time\" (1; #1), 2.0),\n",
       " (\"page_std\" (1; #11), 2.0),\n",
       " (\"room_coor_x\" (1; #12), 2.0),\n",
       " (\"event_name_nunique\" (1; #3), 1.0),\n",
       " (\"room_coor_y_std\" (1; #15), 1.0)]"
      ]
     },
     "execution_count": 23,
     "metadata": {},
     "output_type": "execute_result"
    }
   ],
   "source": [
    "# Each line is: (feature name, (index of the feature), importance score)\n",
    "inspector.variable_importances()[\"NUM_AS_ROOT\"]"
   ]
  },
  {
   "cell_type": "markdown",
   "id": "4f00e6b0",
   "metadata": {},
   "source": [
    "We see that  (\"elapsed_time\" #1) has the highest value in feature importance. This makes sense as time spent on a question can determine a sense of uncertainty and wavering on the question."
   ]
  },
  {
   "cell_type": "markdown",
   "id": "f9ba250c",
   "metadata": {
    "id": "PIK5aUH-n2PH",
    "papermill": {
     "duration": 0.036722,
     "end_time": "2023-05-11T12:07:34.290630",
     "exception": false,
     "start_time": "2023-05-11T12:07:34.253908",
     "status": "completed"
    },
    "tags": []
   },
   "source": [
    "# Threshold Hyperparameter Tuning\n",
    "\n",
    "Given the considerable imbalance in the 'correct' column values, applying the standard threshold of 0.5 for classifying predictions into classes 0 or 1 could lead to subpar performance. To enhance performance in such situations, the F1 score is computed across a range of thresholds, aiming to identify the optimal threshold—the one yielding the highest F1 score. This threshold is subsequently utilized to convert predicted probabilities into class labels 0 or 1.\n",
    "\n",
    "It's essential to mention that the F1 score serves as a superior metric compared to accuracy in assessing problems associated with class imbalance.\n",
    "\n",
    "The threshold parameter, as encountered in the _F1 method, acts as a pre-established cut-off point that translates predicted probabilities into class predictions. Pertaining to binary classification, if the predicted probability surpasses the threshold, the data point gets classified as one class; otherwise, it is classified as the other class. Here, any prediction with a value exceeding 0.63 (the selected threshold) gets classified as '1', otherwise, it's categorized as '0'. The choice of threshold bears implications on the model's performance, thereby making the selection of an optimal threshold crucial.\n"
   ]
  },
  {
   "cell_type": "code",
   "execution_count": 24,
   "id": "3989e22e",
   "metadata": {
    "execution": {
     "iopub.execute_input": "2023-05-11T12:07:34.367832Z",
     "iopub.status.busy": "2023-05-11T12:07:34.366966Z",
     "iopub.status.idle": "2023-05-11T12:07:35.614006Z",
     "shell.execute_reply": "2023-05-11T12:07:35.613080Z"
    },
    "id": "2wptRs3In2PH",
    "papermill": {
     "duration": 1.289096,
     "end_time": "2023-05-11T12:07:35.616821",
     "exception": false,
     "start_time": "2023-05-11T12:07:34.327725",
     "status": "completed"
    },
    "tags": []
   },
   "outputs": [
    {
     "name": "stdout",
     "output_type": "stream",
     "text": [
      "Best threshold  0.6300000000000002 \tF1 score  0.6738222\n"
     ]
    }
   ],
   "source": [
    "# Create a dataframe of required size:\n",
    "# (no: of users in validation set x no: of questions) initialized to zero values\n",
    "# to store true values of the label `correct`. \n",
    "true_df = pd.DataFrame(data=np.zeros((len(VALID_USER_LIST),18)), index=VALID_USER_LIST)\n",
    "for i in range(18):\n",
    "    # Get the true labels.\n",
    "    tmp = labels.loc[labels.q == i+1].set_index('session').loc[VALID_USER_LIST]\n",
    "    true_df[i] = tmp.correct.values\n",
    "\n",
    "max_score = 0; best_threshold = 0\n",
    "\n",
    "# Loop through threshold values from 0.4 to 0.8 and select the threshold with \n",
    "# the highest `F1 score`.\n",
    "for threshold in np.arange(0.4,0.8,0.01):\n",
    "    metric = tfa.metrics.F1Score(num_classes=2,average=\"macro\",threshold=threshold)\n",
    "    y_true = tf.one_hot(true_df.values.reshape((-1)), depth=2)\n",
    "    y_pred = tf.one_hot((prediction_df.values.reshape((-1))>threshold).astype('int'), depth=2)\n",
    "    metric.update_state(y_true, y_pred)\n",
    "    f1_score = metric.result().numpy()\n",
    "    if f1_score > max_score:\n",
    "        max_score = f1_score\n",
    "        best_threshold = threshold\n",
    "        \n",
    "print(\"Best threshold \", best_threshold, \"\\tF1 score \", max_score)"
   ]
  },
  {
   "cell_type": "markdown",
   "id": "f7a8d7d2",
   "metadata": {},
   "source": [
    "# Results\n",
    "\n",
    "The model under investigation demonstrated a promising level of performance as indicated by various metrics procured from the stages of model training and evaluation.\n",
    "\n",
    "The optimal threshold from our hyperparameter tuning for classifying predictions into classes was identified as 0.63, generating an F1 score of 0.6738222. The F1 score is the harmonic mean of precision and recall and is particularly useful in situations where the data may have an imbalance between positive and negative classes. An F1 score of 0.6738222 implies a balanced performance between precision (the model's ability to correctly identify positive results) and recall (the model's ability to find all the positive samples). This suggests that the model effectively predicts both positive and negative classes, validating the moderate success of the model.\n",
    "\n",
    "In the process of model selection, three primary models were considered: RandomForestModel, GradientBoostedTreesModel, and CartModel. The model demonstrating the highest average accuracy of 0.7558 was the GradientBoostedTreesModel, proving it to be the most effective model among the options.\n",
    "\n",
    "Inspecting the performance on individual questions, it was observed that the model's accuracy varied. The model demonstrated the lowest accuracy on question 10, which makes sense as that question had a 50:50 split between being answered incorrectly, implying a relatively higher level of uncertainty for this question. The .62 prediction accuracy is better than a random spread, so it seems there was at least SOME predictive power. The highest accuracy was achieved on question 2, which makes sense since over 95% had answered correctly, indicating question was easy and so the model can easily predict the result statistically.\n",
    "\n",
    "Investigating the feature importance, the highest value was assigned to the feature \"elapsed_time\". This result aligns with the understanding that the time spent on a question could be an indicator of uncertainty and indecision, and hence, it can significantly impact the ability to correctly answer a question.\n",
    "\n",
    "Moreover, the model exhibited a close convergence between training and validation losses, a good sign of the model learning effectively without overfitting. Overfitting is usually indicated by a significant discrepancy between these two losses, characterized by a much lower training loss. However, in the case of this model, the training and validation losses decreased in a closely aligned manner, highlighting the model's robust generalization capability.\n",
    "\n"
   ]
  },
  {
   "cell_type": "markdown",
   "id": "23add0bb",
   "metadata": {},
   "source": [
    "# Conclusion"
   ]
  },
  {
   "cell_type": "markdown",
   "id": "5eb0afa4",
   "metadata": {},
   "source": [
    "The goal of this project was to establish a predictive model for real-time assessment of student performance during game-based learning, leveraging one of the most extensive open datasets of game logs available. This venture served to expand the field of knowledge-tracing methodologies within game-based learning and provide insights for educational game developers to craft enhanced learning experiences.\n",
    "\n",
    "The model demonstrated moderate success, evident from the F1 score of 0.6738222 and an average accuracy of 0.7558. Particularly notable was the role of the \"elapsed_time\" feature, affirming that the time spent on a question could significantly impact a student's ability to answer correctly. The model also showed a good balance between training and validation losses, indicating effective learning without overfitting.\n",
    "\n",
    "However, some opportunities for improvement were identified. For example, while the model showed reasonable success overall, its accuracy varied across different questions. A closer look at each question, especially those with lower accuracy, could reveal specific aspects requiring further improvement or more tailored modeling approaches.\n",
    "\n",
    "In addition, while feature engineering played a significant role in this study, it could be further optimized. Although adding more features degraded the performance in this case, a more careful selection of features could potentially yield better results. A more systematic approach to feature selection and extraction, possibly involving more sophisticated machine learning methods for feature selection, could improve the model's performance.\n",
    "\n",
    "The biggest issue is that there is a clear ceiling in a model's predictive power. Even when the model doesn't overfit the data, the model fails to correctly identify. I feel the data lacks enough context to determine a student's hesitation and expertise in answering the question. For instance, HD and game music is a needless feature, and time_elapsed is insufficient to predict a students answer. \n",
    "\n",
    "The successful deployment of this model could have wide-ranging implications. It could empower educational game developers with insights to enhance the effectiveness of their games, and provide educators with robust analytical tools and dashboards to monitor and support student performance. This could lead to broader support and acceptance of game-based learning platforms in various educational contexts.\n",
    "\n",
    "In conclusion, this project was a significant step towards applying data science and learning analytics principles to refine game-based learning. Despite some areas for improvement, the developed model's moderate success is a notable achievement, contributing valuable insights and paving the way for future advancements in this domain.\n",
    "\n",
    "\n",
    "\n",
    "\n"
   ]
  },
  {
   "cell_type": "code",
   "execution_count": null,
   "id": "8be67f00",
   "metadata": {},
   "outputs": [],
   "source": []
  }
 ],
 "metadata": {
  "kernelspec": {
   "display_name": "Python 3 (ipykernel)",
   "language": "python",
   "name": "python3"
  },
  "language_info": {
   "codemirror_mode": {
    "name": "ipython",
    "version": 3
   },
   "file_extension": ".py",
   "mimetype": "text/x-python",
   "name": "python",
   "nbconvert_exporter": "python",
   "pygments_lexer": "ipython3",
   "version": "3.10.4"
  },
  "papermill": {
   "default_parameters": {},
   "duration": 385.97807,
   "end_time": "2023-05-11T12:07:45.356782",
   "environment_variables": {},
   "exception": null,
   "input_path": "__notebook__.ipynb",
   "output_path": "__notebook__.ipynb",
   "parameters": {},
   "start_time": "2023-05-11T12:01:19.378712",
   "version": "2.4.0"
  }
 },
 "nbformat": 4,
 "nbformat_minor": 5
}
